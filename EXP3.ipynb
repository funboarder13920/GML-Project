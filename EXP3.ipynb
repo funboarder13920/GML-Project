{
 "cells": [
  {
   "cell_type": "code",
   "execution_count": null,
   "metadata": {},
   "outputs": [],
   "source": [
    "import networkx as nx\n",
    "from EXP3 import EXP3, compute_regret, plot_regret\n",
    "import arms\n",
    "import numpy as np\n",
    "import obsGraph"
   ]
  },
  {
   "cell_type": "code",
   "execution_count": null,
   "metadata": {},
   "outputs": [],
   "source": [
    "G = nx.DiGraph()\n",
    "G.add_node(0, arm=arms.ArmBernoulli(0.5))\n",
    "G.add_node(1, arm=arms.ArmBernoulli(0.3))\n",
    "G.add_node(2, arm=arms.ArmBernoulli(0.4))\n",
    "G.add_node(3, arm=arms.ArmBernoulli(0.7))\n",
    "G.add_edge(0,0)\n",
    "G.add_edge(0,1)\n",
    "G.add_edge(2,2)\n",
    "G.add_edge(3,3)\n",
    "\n",
    "G = nx.convert_node_labels_to_integers(G)"
   ]
  },
  {
   "cell_type": "code",
   "execution_count": null,
   "metadata": {},
   "outputs": [],
   "source": [
    "import matplotlib.pyplot as plt\n",
    "nx.draw(G)  # networkx draw()\n",
    "plt.draw()\n",
    "plt.show()"
   ]
  },
  {
   "cell_type": "code",
   "execution_count": null,
   "metadata": {},
   "outputs": [],
   "source": [
    "n_itr = 10000\n",
    "q,losses = EXP3(G, list(G.nodes()), 0.5, 0.05, n_itr)"
   ]
  },
  {
   "cell_type": "code",
   "execution_count": null,
   "metadata": {},
   "outputs": [],
   "source": [
    "regret = compute_regret(losses, G)"
   ]
  },
  {
   "cell_type": "code",
   "execution_count": null,
   "metadata": {},
   "outputs": [],
   "source": [
    "plot_regret([regret], ['EXP3'])"
   ]
  },
  {
   "cell_type": "code",
   "execution_count": null,
   "metadata": {},
   "outputs": [],
   "source": [
    "alpha = 1/2\n",
    "beta = 1/2\n",
    "n_nodes = 20\n",
    "H = obsGraph.strong_obs_graph(n_nodes, alpha, beta)"
   ]
  },
  {
   "cell_type": "code",
   "execution_count": null,
   "metadata": {},
   "outputs": [],
   "source": [
    "nx.draw(H)  # networkx draw()\n",
    "plt.draw()\n",
    "plt.show()"
   ]
  },
  {
   "cell_type": "code",
   "execution_count": null,
   "metadata": {},
   "outputs": [],
   "source": [
    "obsGraph.observability_type(H)"
   ]
  },
  {
   "cell_type": "code",
   "execution_count": null,
   "metadata": {},
   "outputs": [],
   "source": [
    "obsGraph.strong_nodes(H)"
   ]
  },
  {
   "cell_type": "markdown",
   "metadata": {},
   "source": [
    "# Examples\n",
    "## Strongly observable\n",
    "### Bandit"
   ]
  },
  {
   "cell_type": "code",
   "execution_count": null,
   "metadata": {},
   "outputs": [],
   "source": [
    "bandit = nx.DiGraph()\n",
    "bandit.add_node(0, arm=arms.ArmBernoulli(0.5))\n",
    "bandit.add_node(1, arm=arms.ArmBernoulli(0.3))\n",
    "bandit.add_node(2, arm=arms.ArmBernoulli(0.4))\n",
    "bandit.add_node(3, arm=arms.ArmBernoulli(0.7))\n",
    "bandit.add_node(4, arm=arms.ArmBernoulli(0.1))\n",
    "bandit.add_edge(0,0)\n",
    "bandit.add_edge(1,1)\n",
    "bandit.add_edge(2,2)\n",
    "bandit.add_edge(3,3)\n",
    "bandit.add_edge(4,4)\n",
    "print(obsGraph.observability_type(bandit))"
   ]
  },
  {
   "cell_type": "code",
   "execution_count": null,
   "metadata": {},
   "outputs": [],
   "source": [
    "nx.draw(bandit)  # networkx draw()\n",
    "plt.draw()\n",
    "plt.show()"
   ]
  },
  {
   "cell_type": "code",
   "execution_count": null,
   "metadata": {},
   "outputs": [],
   "source": [
    "n_itr = 10000\n",
    "bandit_q, bandit_losses = EXP3(bandit, list(bandit.nodes()), 0.5, 0.05, n_itr)\n",
    "bandit_regret = compute_regret(bandit_losses, bandit)"
   ]
  },
  {
   "cell_type": "code",
   "execution_count": null,
   "metadata": {},
   "outputs": [],
   "source": [
    "plot_regret([bandit_regret], ['EXP3'])"
   ]
  },
  {
   "cell_type": "code",
   "execution_count": null,
   "metadata": {},
   "outputs": [],
   "source": [
    "bandit_q"
   ]
  },
  {
   "cell_type": "markdown",
   "metadata": {},
   "source": [
    "independent set np hard\n",
    "https://networkx.github.io/documentation/networkx-1.10/reference/algorithms.approximation.html?highlight=independent%20set#module-networkx.algorithms.approximation.independent_set\n",
    "\n",
    "how to compute weak domination number?\n",
    "\n",
    "regret doit être une esperance: il faut lancer plusieurs fois et faire la moyenne"
   ]
  },
  {
   "cell_type": "markdown",
   "metadata": {},
   "source": [
    "### Full feedback"
   ]
  },
  {
   "cell_type": "code",
   "execution_count": null,
   "metadata": {},
   "outputs": [],
   "source": [
    "graph_arms = [arms.ArmBernoulli(0.5), arms.ArmBernoulli(0.3), arms.ArmBernoulli(0.4), arms.ArmBernoulli(0.7), arms.ArmBernoulli(0.1)]\n",
    "full_feedback = obsGraph.strong_obs_graph(5, 0, 0, graph_arms)\n",
    "print(obsGraph.observability_type(full_feedback))"
   ]
  },
  {
   "cell_type": "code",
   "execution_count": null,
   "metadata": {},
   "outputs": [],
   "source": [
    "nx.draw(full_feedback)  # networkx draw()\n",
    "plt.draw()\n",
    "plt.show()"
   ]
  },
  {
   "cell_type": "code",
   "execution_count": null,
   "metadata": {},
   "outputs": [],
   "source": [
    "n_itr = 10000\n",
    "full_feedback_q, full_feedback_losses = EXP3(full_feedback, list(full_feedback.nodes()), 0.5, 0.05, n_itr)\n",
    "full_feedback_regret = compute_regret(full_feedback_losses, full_feedback)"
   ]
  },
  {
   "cell_type": "code",
   "execution_count": null,
   "metadata": {},
   "outputs": [],
   "source": [
    "plot_regret([full_feedback_regret], ['EXP3'])"
   ]
  },
  {
   "cell_type": "code",
   "execution_count": null,
   "metadata": {},
   "outputs": [],
   "source": [
    "plot_regret([full_feedback_regret, bandit_regret], ['Full feedback', 'Bandit'])"
   ]
  },
  {
   "cell_type": "markdown",
   "metadata": {},
   "source": [
    "### Police officer - loopless clique"
   ]
  },
  {
   "cell_type": "code",
   "execution_count": null,
   "metadata": {},
   "outputs": [],
   "source": [
    "graph_arms = [arms.ArmBernoulli(0.5), arms.ArmBernoulli(0.3), arms.ArmBernoulli(0.4), arms.ArmBernoulli(0.7), arms.ArmBernoulli(0.1)]\n",
    "police = obsGraph.strong_obs_graph(5, 1, 0, graph_arms)\n",
    "print(obsGraph.observability_type(police))"
   ]
  },
  {
   "cell_type": "code",
   "execution_count": null,
   "metadata": {},
   "outputs": [],
   "source": [
    "nx.draw(police)  # networkx draw()\n",
    "plt.draw()\n",
    "plt.show()"
   ]
  },
  {
   "cell_type": "code",
   "execution_count": null,
   "metadata": {},
   "outputs": [],
   "source": [
    "n_itr = 10000\n",
    "police_q, police_losses = EXP3(police, list(police.nodes()), 0.5, 0.05, n_itr)\n",
    "police_regret = compute_regret(police_losses, police)"
   ]
  },
  {
   "cell_type": "code",
   "execution_count": null,
   "metadata": {},
   "outputs": [],
   "source": [
    "plot_regret([police_regret], ['EXP3'])"
   ]
  },
  {
   "cell_type": "code",
   "execution_count": null,
   "metadata": {},
   "outputs": [],
   "source": [
    "plot_regret([full_feedback_regret, bandit_regret, police_regret], ['Full feedback', 'Bandit', 'Police'])"
   ]
  },
  {
   "cell_type": "markdown",
   "metadata": {},
   "source": [
    "## Weakly observabnle"
   ]
  },
  {
   "cell_type": "markdown",
   "metadata": {},
   "source": [
    "### Revealing actions"
   ]
  },
  {
   "cell_type": "code",
   "execution_count": null,
   "metadata": {},
   "outputs": [],
   "source": [
    "revealing = nx.DiGraph()\n",
    "revealing.add_node(0, arm=arms.ArmBernoulli(0.5))\n",
    "revealing.add_node(1, arm=arms.ArmBernoulli(0.3))\n",
    "revealing.add_node(2, arm=arms.ArmBernoulli(0.4))\n",
    "revealing.add_node(3, arm=arms.ArmBernoulli(0.7))\n",
    "revealing.add_node(4, arm=arms.ArmBernoulli(0.1))\n",
    "revealing.add_edge(0,0)\n",
    "revealing.add_edge(0,1)\n",
    "revealing.add_edge(0,2)\n",
    "revealing.add_edge(0,3)\n",
    "revealing.add_edge(0,4)\n",
    "print(obsGraph.observability_type(revealing))"
   ]
  },
  {
   "cell_type": "code",
   "execution_count": null,
   "metadata": {},
   "outputs": [],
   "source": [
    "nx.draw(revealing)  # networkx draw()\n",
    "plt.draw()\n",
    "plt.show()"
   ]
  },
  {
   "cell_type": "code",
   "execution_count": null,
   "metadata": {},
   "outputs": [],
   "source": [
    "n_itr = 10000\n",
    "revealing_q, revealing_losses = EXP3(revealing, list(revealing.nodes()), 0.5, 0.05, n_itr)\n",
    "revealing_regret = compute_regret(revealing_losses, revealing)"
   ]
  },
  {
   "cell_type": "code",
   "execution_count": null,
   "metadata": {},
   "outputs": [],
   "source": [
    "plot_regret([revealing_regret], ['EXP3'])"
   ]
  },
  {
   "cell_type": "code",
   "execution_count": null,
   "metadata": {},
   "outputs": [],
   "source": [
    "plot_regret([full_feedback_regret, bandit_regret, police_regret, revealing_regret], ['Full feedback', 'Bandit', 'Police','Revealing'])"
   ]
  },
  {
   "cell_type": "markdown",
   "metadata": {},
   "source": [
    "## Unobservable"
   ]
  },
  {
   "cell_type": "code",
   "execution_count": null,
   "metadata": {},
   "outputs": [],
   "source": []
  },
  {
   "cell_type": "markdown",
   "metadata": {},
   "source": [
    "# Instability"
   ]
  },
  {
   "cell_type": "markdown",
   "metadata": {},
   "source": [
    "## Strongly to weakly"
   ]
  },
  {
   "cell_type": "code",
   "execution_count": null,
   "metadata": {},
   "outputs": [],
   "source": []
  },
  {
   "cell_type": "markdown",
   "metadata": {},
   "source": [
    "## Strongly to unobservable"
   ]
  },
  {
   "cell_type": "code",
   "execution_count": null,
   "metadata": {},
   "outputs": [],
   "source": []
  },
  {
   "cell_type": "markdown",
   "metadata": {},
   "source": [
    "## Weakly to unobservable"
   ]
  },
  {
   "cell_type": "code",
   "execution_count": null,
   "metadata": {},
   "outputs": [],
   "source": []
  }
 ],
 "metadata": {
  "kernelspec": {
   "display_name": "Python 3",
   "language": "python",
   "name": "python3"
  },
  "language_info": {
   "codemirror_mode": {
    "name": "ipython",
    "version": 3
   },
   "file_extension": ".py",
   "mimetype": "text/x-python",
   "name": "python",
   "nbconvert_exporter": "python",
   "pygments_lexer": "ipython3",
   "version": "3.6.2"
  }
 },
 "nbformat": 4,
 "nbformat_minor": 2
}
