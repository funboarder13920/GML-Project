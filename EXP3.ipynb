{
 "cells": [
  {
   "cell_type": "code",
   "execution_count": null,
   "metadata": {},
   "outputs": [],
   "source": [
    "import networkx as nx\n",
    "from EXP3 import EXP3\n",
    "import arms\n",
    "import numpy as np"
   ]
  },
  {
   "cell_type": "code",
   "execution_count": null,
   "metadata": {},
   "outputs": [],
   "source": [
    "G = nx.DiGraph()\n",
    "G.add_node(0, arm=arms.ArmBernoulli(0.5))\n",
    "G.add_node(1, arm=arms.ArmBernoulli(0.3))\n",
    "G.add_node(2, arm=arms.ArmBernoulli(0.4))\n",
    "G.add_node(3, arm=arms.ArmBernoulli(0.7))\n",
    "G.add_edge(0,0)\n",
    "G.add_edge(0,1)\n",
    "G.add_edge(2,2)\n",
    "G.add_edge(3,3)\n",
    "\n",
    "G = nx.convert_node_labels_to_integers(G)"
   ]
  },
  {
   "cell_type": "code",
   "execution_count": null,
   "metadata": {},
   "outputs": [],
   "source": [
    "import matplotlib.pyplot as plt\n",
    "nx.draw(G)  # networkx draw()\n",
    "plt.draw()\n",
    "plt.show()"
   ]
  },
  {
   "cell_type": "code",
   "execution_count": null,
   "metadata": {},
   "outputs": [],
   "source": [
    "n_itr = 10000\n",
    "q,losses = EXP3(G, list(G.nodes()), 0.5, 0.05, n_itr)"
   ]
  },
  {
   "cell_type": "code",
   "execution_count": null,
   "metadata": {},
   "outputs": [],
   "source": [
    "regret = np.zeros((n_itr,))\n",
    "best_arm_mean = np.min([-G.node[node]['arm'].mean for node in G.nodes()]) \n",
    "regret = np.cumsum(losses)-best_arm_mean*np.arange(1, n_itr + 1)"
   ]
  },
  {
   "cell_type": "code",
   "execution_count": null,
   "metadata": {},
   "outputs": [],
   "source": [
    "plt.figure(1)\n",
    "x = np.arange(1, n_itr+1)\n",
    "plt.plot(x, regret, label='EXP3')\n",
    "plt.xlabel('Rounds')\n",
    "plt.ylabel('Cumulative Regret')\n",
    "plt.legend()\n",
    "#plt.savefig('Q1_2')\n",
    "plt.show()"
   ]
  },
  {
   "cell_type": "code",
   "execution_count": null,
   "metadata": {},
   "outputs": [],
   "source": []
  }
 ],
 "metadata": {
  "kernelspec": {
   "display_name": "Python 3",
   "language": "python",
   "name": "python3"
  },
  "language_info": {
   "codemirror_mode": {
    "name": "ipython",
    "version": 3
   },
   "file_extension": ".py",
   "mimetype": "text/x-python",
   "name": "python",
   "nbconvert_exporter": "python",
   "pygments_lexer": "ipython3",
   "version": "3.6.2"
  }
 },
 "nbformat": 4,
 "nbformat_minor": 2
}
