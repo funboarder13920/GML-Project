{
 "cells": [
  {
   "cell_type": "markdown",
   "metadata": {},
   "source": [
    "# Graphs in ML - Project Notebook\n",
    "###### Valentin Berkes, Simon Lebastard\n",
    "\n",
    "In this notebook we will create several strongly and weakly connected graphs, test the Exp3G algorithm and assess the influence of a qualitative change in the connectivity graph on the evolution of regret."
   ]
  },
  {
   "cell_type": "code",
   "execution_count": null,
   "metadata": {},
   "outputs": [],
   "source": [
    "import networkx as nx\n",
    "import pygraphviz\n",
    "from networkx.drawing.nx_agraph import write_dot\n",
    "from networkx.algorithms.approximation import *\n",
    "from EXP3 import EXP3, EXP3Opt, compute_regret, plot_regret, gaussian_filter, upper_bound\n",
    "import arms\n",
    "import numpy as np\n",
    "import obsGraph\n",
    "import pdb"
   ]
  },
  {
   "cell_type": "code",
   "execution_count": null,
   "metadata": {},
   "outputs": [],
   "source": [
    "G = nx.DiGraph()\n",
    "G.add_node(0, arm=arms.ArmBernoulli(0.5))\n",
    "G.add_node(1, arm=arms.ArmBernoulli(0.3))\n",
    "G.add_node(2, arm=arms.ArmBernoulli(0.4))\n",
    "G.add_node(3, arm=arms.ArmBernoulli(0.7))\n",
    "G.add_edge(0,0)\n",
    "G.add_edge(0,1)\n",
    "G.add_edge(2,2)\n",
    "G.add_edge(3,3)\n",
    "\n",
    "G = nx.convert_node_labels_to_integers(G)"
   ]
  },
  {
   "cell_type": "code",
   "execution_count": null,
   "metadata": {},
   "outputs": [],
   "source": [
    "import matplotlib.pyplot as plt\n",
    "nx.draw(G)  # networkx draw()\n",
    "plt.draw()\n",
    "plt.show()"
   ]
  },
  {
   "cell_type": "code",
   "execution_count": null,
   "metadata": {},
   "outputs": [],
   "source": [
    "## Get nice graphs with self-loops in PNG format\n",
    "# 1) Install pygraphviz\n",
    "# 2) Run:\n",
    "write_dot(G,'graph.dot')\n",
    "# 3) In terminal, run: dot -Tpng graph.dot > graph.png"
   ]
  },
  {
   "cell_type": "markdown",
   "metadata": {},
   "source": [
    "We will run the Exp3G algorithm 50 times and produce an average to have a smooth regret function. This will allow us to detect quasi-linear components and better identify the asymptotic regret. Note that quasi-linear components can be used on a transformed regret:\n",
    "- $x \\mapsto \\sqrt{x}$ would allow us to find the areas where the regret behaves as $\\mathcal{O}(\\sqrt{x})$\n",
    "- $x \\mapsto x^{\\frac{2}{3}}$ would allow us to find the areas where the regret behaves as $\\mathcal{O}(x^{\\frac{2}{3}})$"
   ]
  },
  {
   "cell_type": "code",
   "execution_count": null,
   "metadata": {
    "scrolled": false
   },
   "outputs": [],
   "source": [
    "n_itr = 100000\n",
    "n_sim = 50\n",
    "\n",
    "# q,losses = EXP3(G, list(G.nodes()), 0.5, 0.05, n_itr, n_sim)\n",
    "q,losses = EXP3Opt(G, list(G.nodes()), n_itr, n_sim)"
   ]
  },
  {
   "cell_type": "code",
   "execution_count": null,
   "metadata": {},
   "outputs": [],
   "source": [
    "regret = compute_regret(losses, G)"
   ]
  },
  {
   "cell_type": "markdown",
   "metadata": {},
   "source": [
    "Fitting power functions is still experimental, but it will allow us to track changes in regret trends when it fully works.\n",
    "Note that we could better fit by knowing the independence number $\\alpha(G)$ for strongly connected graphs, or the weak domination number $\\delta(G)$ for weakly connected graphs. Determining those values is NP-hard, so no scalable method will be available, but there are some algorithms for computing approximations for small graphs. See for instance (Fox & Pach)"
   ]
  },
  {
   "cell_type": "code",
   "execution_count": null,
   "metadata": {},
   "outputs": [],
   "source": [
    "der2,linAreas = plot_regret(G, [regret, upper_bound(G, len(regret))], ['EXP3', 'Upper bound'])#, reg=\"Pwr2/3\", stdev=34)\n",
    "# der2,linAreas = plot_regret([regret], ['EXP3'])"
   ]
  },
  {
   "cell_type": "markdown",
   "metadata": {},
   "source": [
    "Second derivative can be plotted to figure out the thresholds to use for fitting linear and power curves"
   ]
  },
  {
   "cell_type": "code",
   "execution_count": null,
   "metadata": {},
   "outputs": [],
   "source": [
    "#plt.plot(range(10,4700), der2[10:4700])\n",
    "#plt.show()"
   ]
  },
  {
   "cell_type": "markdown",
   "metadata": {},
   "source": [
    "## Building strongly connected graphs\n",
    "\n",
    "To generate a class of strongly connected graphs, we use a parametric method that proceeds as follows:\n",
    "- A fully connected graph $\\mathcal{G}$ is created\n",
    "- $\\alpha \\in [0,1]$ specifies the rate of self-edges to be removed from $\\mathcal{G}$\n",
    "- $\\beta \\in [0,1]$ parametrises the rate of peer-edges to be removed, according to the following policy: if we decide to remove peer-edges for a node $i$ then there is a uniform probability distribution over the number of peer-edges to remove.\n",
    "\n",
    "Even though this method does allow to generate only a given class of graphs, we can later generalize it by introducing a third parameter $p$ that would be the probability distribution to replace the uniform distribution in the case where peer-edges are removed.\n",
    "\n",
    "Here is an example of a strongly connected graph created through our function:"
   ]
  },
  {
   "cell_type": "code",
   "execution_count": null,
   "metadata": {},
   "outputs": [],
   "source": [
    "alpha1 = 0.5\n",
    "beta1 = 0.5\n",
    "n_nodes = 5\n",
    "H1 = obsGraph.strong_obs_graph(n_nodes, alpha1, beta1)"
   ]
  },
  {
   "cell_type": "code",
   "execution_count": null,
   "metadata": {},
   "outputs": [],
   "source": [
    "nx.draw(H1)  # networkx draw()\n",
    "plt.draw()\n",
    "plt.show()\n",
    "write_dot(H1,'strong1.dot')"
   ]
  },
  {
   "cell_type": "code",
   "execution_count": null,
   "metadata": {},
   "outputs": [],
   "source": [
    "obsGraph.observability_type(H1)"
   ]
  },
  {
   "cell_type": "code",
   "execution_count": null,
   "metadata": {},
   "outputs": [],
   "source": [
    "obsGraph.strong_nodes(H1)"
   ]
  },
  {
   "cell_type": "markdown",
   "metadata": {},
   "source": [
    "Note that in this case, we chose $\\alpha + \\beta = 1$, resulting in edges removed for all nodes (either self-edge, or one or more peer-edges).\n",
    "\n",
    "In the second example below, some edges are left dual:"
   ]
  },
  {
   "cell_type": "code",
   "execution_count": null,
   "metadata": {},
   "outputs": [],
   "source": [
    "alpha2 = 0.4\n",
    "beta2 = 0.3\n",
    "n_nodes = 8\n",
    "H2 = obsGraph.strong_obs_graph(n_nodes, alpha2, beta2)\n",
    "nx.draw(H2)  # networkx draw()\n",
    "plt.draw()\n",
    "plt.show()\n",
    "#write_dot(H2,'strong2.dot')\n",
    "obsGraph.observability_type(H2)\n",
    "obsGraph.strong_nodes(H2)"
   ]
  },
  {
   "cell_type": "markdown",
   "metadata": {},
   "source": [
    "# Examples\n",
    "## Strongly observable\n",
    "### Bandit"
   ]
  },
  {
   "cell_type": "code",
   "execution_count": null,
   "metadata": {},
   "outputs": [],
   "source": [
    "bandit = nx.DiGraph()\n",
    "bandit.add_node(0, arm=arms.ArmBernoulli(0.5))\n",
    "bandit.add_node(1, arm=arms.ArmBernoulli(0.3))\n",
    "bandit.add_node(2, arm=arms.ArmBernoulli(0.4))\n",
    "bandit.add_node(3, arm=arms.ArmBernoulli(0.7))\n",
    "bandit.add_node(4, arm=arms.ArmBernoulli(0.1))\n",
    "bandit.add_edge(0,0)\n",
    "bandit.add_edge(1,1)\n",
    "bandit.add_edge(2,2)\n",
    "bandit.add_edge(3,3)\n",
    "bandit.add_edge(4,4)\n",
    "print(obsGraph.observability_type(bandit))"
   ]
  },
  {
   "cell_type": "code",
   "execution_count": null,
   "metadata": {},
   "outputs": [],
   "source": [
    "nx.draw(bandit)\n",
    "plt.draw()\n",
    "plt.show()\n",
    "# Note that networkx does not display self edges\n",
    "# Exporting the dot graph allows to see self-edges"
   ]
  },
  {
   "cell_type": "code",
   "execution_count": null,
   "metadata": {},
   "outputs": [],
   "source": [
    "n_itr = 100000\n",
    "n_sim = 50\n",
    "bandit_q, bandit_losses = EXP3Opt(bandit, list(bandit.nodes()), n_itr, n_sim, alpha=1)\n",
    "bandit_regret = compute_regret(bandit_losses, bandit)"
   ]
  },
  {
   "cell_type": "code",
   "execution_count": null,
   "metadata": {},
   "outputs": [],
   "source": [
    "plot_regret(bandit, [bandit_regret, upper_bound(bandit, len(bandit_regret),alpha=1)], ['EXP3', 'Upper bound'])"
   ]
  },
  {
   "cell_type": "code",
   "execution_count": null,
   "metadata": {},
   "outputs": [],
   "source": [
    "bandit_q"
   ]
  },
  {
   "cell_type": "markdown",
   "metadata": {},
   "source": [
    "independent set np hard\n",
    "https://networkx.github.io/documentation/networkx-1.10/reference/algorithms.approximation.html?highlight=independent%20set#module-networkx.algorithms.approximation.independent_set\n",
    "\n",
    "how to compute weak domination number?\n",
    "\n",
    "regret doit être une esperance: il faut lancer plusieurs fois et faire la moyenne"
   ]
  },
  {
   "cell_type": "markdown",
   "metadata": {},
   "source": [
    "### Full feedback"
   ]
  },
  {
   "cell_type": "code",
   "execution_count": null,
   "metadata": {},
   "outputs": [],
   "source": [
    "graph_arms = [arms.ArmBernoulli(0.5), arms.ArmBernoulli(0.3), arms.ArmBernoulli(0.4), arms.ArmBernoulli(0.7), arms.ArmBernoulli(0.1)]\n",
    "full_feedback = obsGraph.strong_obs_graph(5, 0, 0, graph_arms)\n",
    "print(obsGraph.observability_type(full_feedback))"
   ]
  },
  {
   "cell_type": "code",
   "execution_count": null,
   "metadata": {},
   "outputs": [],
   "source": [
    "nx.draw(full_feedback)  # networkx draw()\n",
    "plt.draw()\n",
    "plt.show()"
   ]
  },
  {
   "cell_type": "code",
   "execution_count": null,
   "metadata": {},
   "outputs": [],
   "source": [
    "n_itr = 5000\n",
    "n_sim = 50\n",
    "full_feedback_q, full_feedback_losses = EXP3Opt(full_feedback, list(full_feedback.nodes()), n_itr, n_sim, alpha=len(full_feedback.nodes()))\n",
    "full_feedback_regret = compute_regret(full_feedback_losses, full_feedback)"
   ]
  },
  {
   "cell_type": "code",
   "execution_count": null,
   "metadata": {},
   "outputs": [],
   "source": [
    "plot_regret(full_feedback, [full_feedback_regret, upper_bound(full_feedback, len(full_feedback_regret), alpha=len(full_feedback.nodes()))], ['EXP3', 'Upper bound'])"
   ]
  },
  {
   "cell_type": "code",
   "execution_count": null,
   "metadata": {},
   "outputs": [],
   "source": [
    "min_t = min(len(full_feedback_regret), len(bandit_regret))\n",
    "plot_regret(full_feedback, [full_feedback_regret[:min_t], bandit_regret[:min_t]], ['Full feedback', 'Bandit'])"
   ]
  },
  {
   "cell_type": "markdown",
   "metadata": {},
   "source": [
    "### Police officer - loopless clique"
   ]
  },
  {
   "cell_type": "code",
   "execution_count": null,
   "metadata": {},
   "outputs": [],
   "source": [
    "graph_arms = [arms.ArmBernoulli(0.5), arms.ArmBernoulli(0.3), arms.ArmBernoulli(0.4), arms.ArmBernoulli(0.7), arms.ArmBernoulli(0.1)]\n",
    "police = obsGraph.strong_obs_graph(5, 1, 0, graph_arms)\n",
    "print(obsGraph.observability_type(police))"
   ]
  },
  {
   "cell_type": "code",
   "execution_count": null,
   "metadata": {},
   "outputs": [],
   "source": [
    "nx.draw(police)  # networkx draw()\n",
    "plt.draw()\n",
    "plt.show()"
   ]
  },
  {
   "cell_type": "code",
   "execution_count": null,
   "metadata": {},
   "outputs": [],
   "source": [
    "n_itr = 50000\n",
    "n_sim= 50\n",
    "police_q, police_losses = EXP3Opt(police, list(police.nodes()), n_itr, n_sim)\n",
    "police_regret = compute_regret(police_losses, police)"
   ]
  },
  {
   "cell_type": "code",
   "execution_count": null,
   "metadata": {},
   "outputs": [],
   "source": [
    "plot_regret(police, [police_regret, upper_bound(police, len(police_regret))], ['EXP3', 'Upper bound'])"
   ]
  },
  {
   "cell_type": "code",
   "execution_count": null,
   "metadata": {},
   "outputs": [],
   "source": [
    "min_t = min(len(full_feedback_regret), min(len(bandit_regret),len(police_regret)))\n",
    "plot_regret(police, [full_feedback_regret[:min_t], bandit_regret[:min_t], police_regret[:min_t]], ['Full feedback', 'Bandit', 'Police'])"
   ]
  },
  {
   "cell_type": "markdown",
   "metadata": {},
   "source": [
    "## Weakly observable"
   ]
  },
  {
   "cell_type": "markdown",
   "metadata": {},
   "source": [
    "### Revealing actions"
   ]
  },
  {
   "cell_type": "code",
   "execution_count": null,
   "metadata": {},
   "outputs": [],
   "source": [
    "revealing = nx.DiGraph()\n",
    "revealing.add_node(0, arm=arms.ArmBernoulli(0.5))\n",
    "revealing.add_node(1, arm=arms.ArmBernoulli(0.3))\n",
    "revealing.add_node(2, arm=arms.ArmBernoulli(0.4))\n",
    "revealing.add_node(3, arm=arms.ArmBernoulli(0.7))\n",
    "revealing.add_node(4, arm=arms.ArmBernoulli(0.1))\n",
    "revealing.add_edge(0,0)\n",
    "revealing.add_edge(0,1)\n",
    "revealing.add_edge(0,2)\n",
    "revealing.add_edge(0,3)\n",
    "revealing.add_edge(0,4)\n",
    "print(obsGraph.observability_type(revealing))"
   ]
  },
  {
   "cell_type": "code",
   "execution_count": null,
   "metadata": {},
   "outputs": [],
   "source": [
    "nx.draw(revealing)  # networkx draw()\n",
    "plt.draw()\n",
    "plt.show()"
   ]
  },
  {
   "cell_type": "code",
   "execution_count": null,
   "metadata": {},
   "outputs": [],
   "source": [
    "n_itr = 50000\n",
    "n_sim = 10\n",
    "revealing_q, revealing_losses = EXP3Opt(revealing, list(revealing.nodes()), n_itr, n_sim)\n",
    "revealing_regret = compute_regret(revealing_losses, revealing)"
   ]
  },
  {
   "cell_type": "code",
   "execution_count": null,
   "metadata": {},
   "outputs": [],
   "source": [
    "plot_regret(revealing, [revealing_regret, upper_bound(revealing, len(revealing_regret))], ['EXP3', 'Upper bound'])"
   ]
  },
  {
   "cell_type": "code",
   "execution_count": null,
   "metadata": {},
   "outputs": [],
   "source": [
    "min_t = min(min(len(revealing_regret),len(full_feedback_regret)), min(len(bandit_regret),len(police_regret)))"
   ]
  },
  {
   "cell_type": "code",
   "execution_count": null,
   "metadata": {},
   "outputs": [],
   "source": [
    "plot_regret(revealing, [full_feedback_regret[:min_t], bandit_regret[:min_t], police_regret[:min_t], revealing_regret[:min_t]], ['Full feedback', 'Bandit', 'Police','Revealing'])"
   ]
  },
  {
   "cell_type": "markdown",
   "metadata": {},
   "source": [
    "## Unobservable"
   ]
  },
  {
   "cell_type": "code",
   "execution_count": null,
   "metadata": {},
   "outputs": [],
   "source": []
  },
  {
   "cell_type": "markdown",
   "metadata": {},
   "source": [
    "# Instability"
   ]
  },
  {
   "cell_type": "markdown",
   "metadata": {},
   "source": [
    "## Strongly to weakly\n",
    "\n",
    "Here we will build a strongly connected graph, run Exp3G on this graph but break the strong connectivity while the algorithm runs.\n",
    "Let's start simple with 5 nodes. The graph will only contain peer-edges"
   ]
  },
  {
   "cell_type": "code",
   "execution_count": null,
   "metadata": {},
   "outputs": [],
   "source": [
    "alpha1 = 1\n",
    "beta1 = 0\n",
    "n_nodes = 5\n",
    "S1 = obsGraph.strong_obs_graph(n_nodes, alpha1, beta1)"
   ]
  },
  {
   "cell_type": "code",
   "execution_count": null,
   "metadata": {},
   "outputs": [],
   "source": [
    "nx.draw(S1)  # networkx draw()\n",
    "plt.draw()\n",
    "plt.show()"
   ]
  },
  {
   "cell_type": "code",
   "execution_count": null,
   "metadata": {},
   "outputs": [],
   "source": [
    "perturbations = {1000:[(0,1)], 2000:[(0,2),(1,2)]}\n",
    "n_itr = 5000\n",
    "n_sim = 10\n",
    "\n",
    "obsGraph.observability_type(S1)"
   ]
  },
  {
   "cell_type": "code",
   "execution_count": null,
   "metadata": {},
   "outputs": [],
   "source": [
    "qS1,lS1 = EXP3(S1, list(S1.nodes()), 0.5, 0.05, n_itr, n_sim)\n",
    "regS1 = compute_regret(lS1, G)\n",
    "dr2S1,laS1 = plot_regret(S1, [regS1], ['EXP3 on strong graph'])\n",
    "\n",
    "W1 = S1.remove_edge(0,1)\n",
    "qW1,lW1 = EXP3(W1, list(W1.nodes()), 0.5, 0.05, n_itr, n_sim)\n",
    "regW1 = compute_regret(lW1, G)\n",
    "dr2W1,laW1 = plot_regret(W1, [regW1], ['EXP3 on weakly connected graph'])"
   ]
  },
  {
   "cell_type": "markdown",
   "metadata": {},
   "source": [
    "## Strongly to unobservable"
   ]
  },
  {
   "cell_type": "code",
   "execution_count": null,
   "metadata": {},
   "outputs": [],
   "source": [
    "# Should transition toweakly observable at 1000th iteration, then to unobservable at 2000th iteration\n",
    "perturbations = {1000:[[0,1]], 2000:[[0,2],[0,3],[0,4]]}"
   ]
  },
  {
   "cell_type": "markdown",
   "metadata": {},
   "source": [
    "## Weakly to unobservable"
   ]
  },
  {
   "cell_type": "code",
   "execution_count": null,
   "metadata": {},
   "outputs": [],
   "source": []
  },
  {
   "cell_type": "markdown",
   "metadata": {},
   "source": [
    "## Bibliography\n",
    "\n",
    "Fox & Pach, Computing the Independence Number of Intersection Graphs, math.mit.edu/~fox/paper-foxj.pdf"
   ]
  },
  {
   "cell_type": "raw",
   "metadata": {
    "collapsed": true
   },
   "source": [
    "Que veut dire la lower bound ?? pourquoi pour une certaine famille de loss function\n",
    "Que veut dire l'upper bound par rapport a notre algo? "
   ]
  }
 ],
 "metadata": {
  "kernelspec": {
   "display_name": "Python 3",
   "language": "python",
   "name": "python3"
  },
  "language_info": {
   "codemirror_mode": {
    "name": "ipython",
    "version": 3
   },
   "file_extension": ".py",
   "mimetype": "text/x-python",
   "name": "python",
   "nbconvert_exporter": "python",
   "pygments_lexer": "ipython3",
   "version": "3.6.2"
  }
 },
 "nbformat": 4,
 "nbformat_minor": 2
}
