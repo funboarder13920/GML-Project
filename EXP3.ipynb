{
 "cells": [
  {
   "cell_type": "markdown",
   "metadata": {},
   "source": [
    "# Graphs in ML - Project Notebook\n",
    "###### Valentin Berkes, Simon Lebastard\n",
    "\n",
    "In this notebook we will create several strongly and weakly connected graphs, test the Exp3G algorithm and assess the influence of a qualitative change in the connectivity graph on the evolution of regret."
   ]
  },
  {
   "cell_type": "code",
   "execution_count": null,
   "metadata": {},
   "outputs": [],
   "source": [
    "import networkx as nx\n",
    "import pygraphviz\n",
    "from networkx.drawing.nx_agraph import write_dot\n",
    "from networkx.algorithms.approximation import *\n",
    "from EXP3 import EXP3, EXP3Opt, compute_regret, plot_regret, gaussian_filter, upper_bound\n",
    "import arms\n",
    "import numpy as np\n",
    "import obsGraph\n",
    "import pdb\n",
    "\n",
    "obs_dict = {0:\"unobservable\", 1:\"weakly observable\", 2:\"strongly observable\"}"
   ]
  },
  {
   "cell_type": "code",
   "execution_count": null,
   "metadata": {},
   "outputs": [],
   "source": [
    "G = nx.DiGraph()\n",
    "G.add_node(0, arm=arms.ArmBernoulli(0.5))\n",
    "G.add_node(1, arm=arms.ArmBernoulli(0.3))\n",
    "G.add_node(2, arm=arms.ArmBernoulli(0.4))\n",
    "G.add_node(3, arm=arms.ArmBernoulli(0.7))\n",
    "G.add_edge(0,0)\n",
    "G.add_edge(0,1)\n",
    "G.add_edge(2,2)\n",
    "G.add_edge(3,3)\n",
    "\n",
    "G = nx.convert_node_labels_to_integers(G)"
   ]
  },
  {
   "cell_type": "code",
   "execution_count": null,
   "metadata": {},
   "outputs": [],
   "source": [
    "import matplotlib.pyplot as plt\n",
    "nx.draw(G)  # networkx draw()\n",
    "plt.draw()\n",
    "plt.show()"
   ]
  },
  {
   "cell_type": "code",
   "execution_count": null,
   "metadata": {},
   "outputs": [],
   "source": [
    "## Get nice graphs with self-loops in PNG format\n",
    "# 1) Install pygraphviz\n",
    "# 2) Run:\n",
    "write_dot(G,'graph.dot')\n",
    "# 3) In terminal, run: dot -Tpng graph.dot > graph.png"
   ]
  },
  {
   "cell_type": "markdown",
   "metadata": {},
   "source": [
    "We will run the Exp3G algorithm 50 times and produce an average to have a smooth regret function. This will allow us to detect quasi-linear components and better identify the asymptotic regret. Note that quasi-linear components can be used on a transformed regret:\n",
    "- $x \\mapsto \\sqrt{x}$ would allow us to find the areas where the regret behaves as $\\mathcal{O}(\\sqrt{x})$\n",
    "- $x \\mapsto x^{\\frac{2}{3}}$ would allow us to find the areas where the regret behaves as $\\mathcal{O}(x^{\\frac{2}{3}})$"
   ]
  },
  {
   "cell_type": "code",
   "execution_count": null,
   "metadata": {
    "scrolled": false
   },
   "outputs": [],
   "source": [
    "n_itr = 5000\n",
    "n_sim = 50\n",
    "\n",
    "# q,losses = EXP3(G, list(G.nodes()), 0.5, 0.05, n_itr, n_sim)\n",
    "q,losses = EXP3Opt(G, list(G.nodes()), n_itr, n_sim, weak_dom={0})"
   ]
  },
  {
   "cell_type": "code",
   "execution_count": null,
   "metadata": {},
   "outputs": [],
   "source": [
    "regret = compute_regret(losses, G)"
   ]
  },
  {
   "cell_type": "markdown",
   "metadata": {},
   "source": [
    "Fitting power functions is still experimental, but it will allow us to track changes in regret trends when it fully works.\n",
    "Note that we could better fit by knowing the independence number $\\alpha(G)$ for strongly connected graphs, or the weak domination number $\\delta(G)$ for weakly connected graphs. Determining those values is NP-hard, so no scalable method will be available, but there are some algorithms for computing approximations for small graphs. See for instance (Fox & Pach)"
   ]
  },
  {
   "cell_type": "code",
   "execution_count": null,
   "metadata": {},
   "outputs": [],
   "source": [
    "der2,linAreas = plot_regret(G, [regret, upper_bound(G, len(regret))], ['EXP3', 'Upper bound'])#, reg=\"Pwr2/3\", stdev=34)\n",
    "# der2,linAreas = plot_regret([regret], ['EXP3'])"
   ]
  },
  {
   "cell_type": "markdown",
   "metadata": {},
   "source": [
    "Second derivative can be plotted to figure out the thresholds to use for fitting linear and power curves"
   ]
  },
  {
   "cell_type": "code",
   "execution_count": null,
   "metadata": {},
   "outputs": [],
   "source": [
    "#plt.plot(range(10,4700), der2[10:4700])\n",
    "#plt.show()"
   ]
  },
  {
   "cell_type": "markdown",
   "metadata": {},
   "source": [
    "## Building strongly connected graphs\n",
    "\n",
    "To generate a class of strongly connected graphs, we use a parametric method that proceeds as follows:\n",
    "- A fully connected graph $\\mathcal{G}$ is created\n",
    "- $\\alpha \\in [0,1]$ specifies the rate of self-edges to be removed from $\\mathcal{G}$\n",
    "- $\\beta \\in [0,1]$ parametrises the rate of peer-edges to be removed, according to the following policy: if we decide to remove peer-edges for a node $i$ then there is a uniform probability distribution over the number of peer-edges to remove.\n",
    "\n",
    "Even though this method does allow to generate only a given class of graphs, we can later generalize it by introducing a third parameter $p$ that would be the probability distribution to replace the uniform distribution in the case where peer-edges are removed.\n",
    "\n",
    "Here is an example of a strongly connected graph created through our function:"
   ]
  },
  {
   "cell_type": "code",
   "execution_count": null,
   "metadata": {},
   "outputs": [],
   "source": [
    "alpha1 = 0.5\n",
    "beta1 = 0.5\n",
    "n_nodes = 5\n",
    "H1 = obsGraph.strong_obs_graph(n_nodes, alpha1, beta1)"
   ]
  },
  {
   "cell_type": "code",
   "execution_count": null,
   "metadata": {},
   "outputs": [],
   "source": [
    "nx.draw(H1)  # networkx draw()\n",
    "plt.draw()\n",
    "plt.show()\n",
    "write_dot(H1,'strong1.dot')"
   ]
  },
  {
   "cell_type": "code",
   "execution_count": null,
   "metadata": {},
   "outputs": [],
   "source": [
    "print(\"This graph is {}\".format(obs_dict[obsGraph.observability_type(H1)]))"
   ]
  },
  {
   "cell_type": "code",
   "execution_count": null,
   "metadata": {},
   "outputs": [],
   "source": [
    "obsGraph.strong_nodes(H1)"
   ]
  },
  {
   "cell_type": "markdown",
   "metadata": {},
   "source": [
    "Function obsGraph.strong_nodes provides the list of nodes in a graph that are strongly observable.\n",
    "Those nodes are either observed by themselves ('self'-observed), by all other edges ('peer-observed') or by both ('dual'-observed)."
   ]
  },
  {
   "cell_type": "markdown",
   "metadata": {},
   "source": [
    "Note that in this case, we chose $\\alpha + \\beta = 1$, resulting in edges removed for all nodes (either self-edge, or one or more peer-edges).\n",
    "\n",
    "In the second example below, some edges are left dual:"
   ]
  },
  {
   "cell_type": "code",
   "execution_count": null,
   "metadata": {},
   "outputs": [],
   "source": [
    "alpha2 = 0.4\n",
    "beta2 = 0.3\n",
    "n_nodes = 8\n",
    "H2 = obsGraph.strong_obs_graph(n_nodes, alpha2, beta2)\n",
    "nx.draw(H2)  # networkx draw()\n",
    "plt.draw()\n",
    "plt.show()\n",
    "#write_dot(H2,'strong2.dot')\n",
    "print(\"This graph is {}\".format(obs_dict[obsGraph.observability_type(H2)]))\n",
    "obsGraph.strong_nodes(H2)"
   ]
  },
  {
   "cell_type": "markdown",
   "metadata": {},
   "source": [
    "# Examples\n",
    "## Strongly observable\n",
    "### Bandit"
   ]
  },
  {
   "cell_type": "code",
   "execution_count": null,
   "metadata": {},
   "outputs": [],
   "source": [
    "bandit = nx.DiGraph()\n",
    "bandit.add_node(0, arm=arms.ArmBernoulli(0.5))\n",
    "bandit.add_node(1, arm=arms.ArmBernoulli(0.49))\n",
    "bandit.add_node(2, arm=arms.ArmBernoulli(0.4))\n",
    "bandit.add_node(3, arm=arms.ArmBernoulli(0.7))\n",
    "bandit.add_node(4, arm=arms.ArmBernoulli(0.1))\n",
    "bandit.add_edge(0,0)\n",
    "bandit.add_edge(1,1)\n",
    "bandit.add_edge(2,2)\n",
    "bandit.add_edge(3,3)\n",
    "bandit.add_edge(4,4)\n",
    "print(\"This graph is {}\".format(obs_dict[obsGraph.observability_type(bandit)]))"
   ]
  },
  {
   "cell_type": "code",
   "execution_count": null,
   "metadata": {},
   "outputs": [],
   "source": [
    "nx.draw(bandit)\n",
    "plt.draw()\n",
    "plt.show()\n",
    "# Note that networkx does not display self edges\n",
    "# Exporting the dot graph allows to see self-edges\n",
    "# write_dot(bandit,'Graphs/bandit.dot')"
   ]
  },
  {
   "cell_type": "code",
   "execution_count": null,
   "metadata": {},
   "outputs": [],
   "source": [
    "n_itr = 10000\n",
    "n_sim = 100\n",
    "bandit_q, bandit_losses = EXP3Opt(bandit, list(bandit.nodes()), n_itr, n_sim, alpha=bandit.number_of_nodes()-1)\n",
    "bandit_regret = compute_regret(bandit_losses, bandit)"
   ]
  },
  {
   "cell_type": "code",
   "execution_count": null,
   "metadata": {},
   "outputs": [],
   "source": [
    "plot_regret(bandit, [bandit_regret, upper_bound(bandit, len(bandit_regret), alpha=bandit.number_of_nodes()-1)], ['EXP3', 'Upper bound'])"
   ]
  },
  {
   "cell_type": "code",
   "execution_count": null,
   "metadata": {},
   "outputs": [],
   "source": [
    "bandit_q"
   ]
  },
  {
   "cell_type": "markdown",
   "metadata": {},
   "source": [
    "independent set np hard\n",
    "https://networkx.github.io/documentation/networkx-1.10/reference/algorithms.approximation.html?highlight=independent%20set#module-networkx.algorithms.approximation.independent_set\n",
    "\n",
    "how to compute weak domination number?\n",
    "\n",
    "regret doit être une esperance: il faut lancer plusieurs fois et faire la moyenne"
   ]
  },
  {
   "cell_type": "markdown",
   "metadata": {},
   "source": [
    "### Full feedback"
   ]
  },
  {
   "cell_type": "code",
   "execution_count": null,
   "metadata": {},
   "outputs": [],
   "source": [
    "graph_arms = [arms.ArmBernoulli(0.5), arms.ArmBernoulli(0.3), arms.ArmBernoulli(0.4), arms.ArmBernoulli(0.7), arms.ArmBernoulli(0.1)]\n",
    "full_feedback = obsGraph.strong_obs_graph(5, 0, 0, graph_arms)\n",
    "print(\"This graph is {}\".format(obs_dict[obsGraph.observability_type(full_feedback)]))"
   ]
  },
  {
   "cell_type": "code",
   "execution_count": null,
   "metadata": {},
   "outputs": [],
   "source": [
    "nx.draw(full_feedback)  # networkx draw()\n",
    "plt.draw()\n",
    "plt.show()\n",
    "write_dot(bandit,'Graphs/full_feedback.dot')"
   ]
  },
  {
   "cell_type": "code",
   "execution_count": null,
   "metadata": {},
   "outputs": [],
   "source": [
    "n_itr = 10000\n",
    "n_sim = 100\n",
    "full_feedback_q, full_feedback_losses = EXP3Opt(full_feedback, list(full_feedback.nodes()), n_itr, n_sim, alpha=1)\n",
    "full_feedback_regret = compute_regret(full_feedback_losses, full_feedback)"
   ]
  },
  {
   "cell_type": "code",
   "execution_count": null,
   "metadata": {},
   "outputs": [],
   "source": [
    "plot_regret(full_feedback, [full_feedback_regret, upper_bound(full_feedback, len(full_feedback_regret), alpha=1)], ['EXP3', 'Upper bound'])"
   ]
  },
  {
   "cell_type": "code",
   "execution_count": null,
   "metadata": {},
   "outputs": [],
   "source": [
    "min_t = min(len(full_feedback_regret), len(bandit_regret))\n",
    "plot_regret(full_feedback, [full_feedback_regret[:min_t], bandit_regret[:min_t]], ['Full feedback', 'Bandit'])"
   ]
  },
  {
   "cell_type": "markdown",
   "metadata": {},
   "source": [
    "### Police officer - loopless clique"
   ]
  },
  {
   "cell_type": "code",
   "execution_count": null,
   "metadata": {},
   "outputs": [],
   "source": [
    "graph_arms = [arms.ArmBernoulli(0.5), arms.ArmBernoulli(0.3), arms.ArmBernoulli(0.4), arms.ArmBernoulli(0.7), arms.ArmBernoulli(0.1)]\n",
    "police = obsGraph.strong_obs_graph(5, 1, 0, graph_arms)\n",
    "print(\"This graph is {}\".format(obs_dict[obsGraph.observability_type(police)]))"
   ]
  },
  {
   "cell_type": "code",
   "execution_count": null,
   "metadata": {},
   "outputs": [],
   "source": [
    "nx.draw(police)  # networkx draw()\n",
    "plt.draw()\n",
    "plt.show()\n",
    "#write_dot(bandit,'Graphs/loopless_clique.dot')"
   ]
  },
  {
   "cell_type": "code",
   "execution_count": null,
   "metadata": {},
   "outputs": [],
   "source": [
    "n_itr = 10000\n",
    "n_sim= 100\n",
    "police_q, police_losses = EXP3Opt(police, list(police.nodes()), n_itr, n_sim, alpha=1)\n",
    "police_regret = compute_regret(police_losses, police)"
   ]
  },
  {
   "cell_type": "code",
   "execution_count": null,
   "metadata": {},
   "outputs": [],
   "source": [
    "der2police,_ = plot_regret(police, [police_regret, upper_bound(police, len(police_regret), alpha=1)], ['EXP3', 'Upper bound'])"
   ]
  },
  {
   "cell_type": "code",
   "execution_count": null,
   "metadata": {},
   "outputs": [],
   "source": [
    "min_t = min(len(full_feedback_regret), min(len(bandit_regret),len(police_regret)))\n",
    "plot_regret(police,\n",
    "            [full_feedback_regret[:min_t], bandit_regret[:min_t], police_regret[:min_t]],\n",
    "            ['Full feedback', 'Bandit', 'Police'])"
   ]
  },
  {
   "cell_type": "markdown",
   "metadata": {},
   "source": [
    "## Weakly observable"
   ]
  },
  {
   "cell_type": "markdown",
   "metadata": {},
   "source": [
    "### Revealing actions"
   ]
  },
  {
   "cell_type": "code",
   "execution_count": null,
   "metadata": {},
   "outputs": [],
   "source": [
    "revealing = nx.DiGraph()\n",
    "revealing.add_node(0, arm=arms.ArmBernoulli(0.5))\n",
    "revealing.add_node(1, arm=arms.ArmBernoulli(0.3))\n",
    "revealing.add_node(2, arm=arms.ArmBernoulli(0.4))\n",
    "revealing.add_node(3, arm=arms.ArmBernoulli(0.7))\n",
    "revealing.add_node(4, arm=arms.ArmBernoulli(0.1))\n",
    "revealing.add_edge(0,0)\n",
    "revealing.add_edge(0,1)\n",
    "revealing.add_edge(0,2)\n",
    "revealing.add_edge(0,3)\n",
    "revealing.add_edge(0,4)\n",
    "print(\"This graph is {}\".format(obs_dict[obsGraph.observability_type(revealing)]))"
   ]
  },
  {
   "cell_type": "code",
   "execution_count": null,
   "metadata": {},
   "outputs": [],
   "source": [
    "nx.draw(revealing)  # networkx draw()\n",
    "plt.draw()\n",
    "plt.show()\n",
    "# write_dot(revealing,'Graphs/revealing.dot')"
   ]
  },
  {
   "cell_type": "code",
   "execution_count": null,
   "metadata": {},
   "outputs": [],
   "source": [
    "n_itr = 10000\n",
    "n_sim = 100\n",
    "revealing_q, revealing_losses = EXP3Opt(revealing, list(revealing.nodes()), n_itr, n_sim, weak_dom={0})\n",
    "revealing_regret = compute_regret(revealing_losses, revealing)"
   ]
  },
  {
   "cell_type": "code",
   "execution_count": null,
   "metadata": {},
   "outputs": [],
   "source": [
    "plot_regret(revealing,\n",
    "            [revealing_regret, upper_bound(revealing, len(revealing_regret), delta=1)],\n",
    "            ['EXP3', 'Upper bound'])"
   ]
  },
  {
   "cell_type": "code",
   "execution_count": null,
   "metadata": {},
   "outputs": [],
   "source": [
    "min_t = min(min(len(revealing_regret),len(full_feedback_regret)), min(len(bandit_regret),len(police_regret)))"
   ]
  },
  {
   "cell_type": "code",
   "execution_count": null,
   "metadata": {},
   "outputs": [],
   "source": [
    "plot_regret(revealing,\n",
    "            [full_feedback_regret[:min_t], bandit_regret[:min_t], police_regret[:min_t], revealing_regret[:min_t]],\n",
    "            ['Full feedback', 'Bandit', 'Police','Revealing'])"
   ]
  },
  {
   "cell_type": "markdown",
   "metadata": {},
   "source": [
    "### Cycle"
   ]
  },
  {
   "cell_type": "code",
   "execution_count": null,
   "metadata": {},
   "outputs": [],
   "source": [
    "cycle = nx.DiGraph()\n",
    "cycle.add_node(0, arm=arms.ArmBernoulli(0.5))\n",
    "cycle.add_node(1, arm=arms.ArmBernoulli(0.3))\n",
    "cycle.add_node(2, arm=arms.ArmBernoulli(0.4))\n",
    "cycle.add_node(3, arm=arms.ArmBernoulli(0.7))\n",
    "cycle.add_node(4, arm=arms.ArmBernoulli(0.1))\n",
    "cycle.add_edge(0, 1)\n",
    "cycle.add_edge(1, 2)\n",
    "cycle.add_edge(2, 3)\n",
    "cycle.add_edge(3, 4)\n",
    "cycle.add_edge(4, 0)\n",
    "print(\"This graph is {}\".format(obs_dict[obsGraph.observability_type(cycle)]))"
   ]
  },
  {
   "cell_type": "code",
   "execution_count": null,
   "metadata": {},
   "outputs": [],
   "source": [
    "nx.draw(cycle)  # networkx draw()\n",
    "plt.draw()\n",
    "plt.show()\n",
    "#write_dot(cycle,'Graphs/cycle.dot')"
   ]
  },
  {
   "cell_type": "code",
   "execution_count": null,
   "metadata": {},
   "outputs": [],
   "source": [
    "n_itr = 10000\n",
    "n_sim = 100\n",
    "cycle_q, cycle_losses = EXP3Opt(cycle, list(cycle.nodes()), n_itr, n_sim, weak_dom={0, 1, 2, 3, 4})\n",
    "cycle_regret = compute_regret(cycle_losses, cycle)"
   ]
  },
  {
   "cell_type": "code",
   "execution_count": null,
   "metadata": {},
   "outputs": [],
   "source": [
    "plot_regret(cycle, [cycle_regret, upper_bound(cycle, len(cycle_regret), delta=5)], ['EXP3', 'Upper bound'])"
   ]
  },
  {
   "cell_type": "code",
   "execution_count": null,
   "metadata": {},
   "outputs": [],
   "source": [
    "min_t = min(len(cycle_regret),\n",
    "            min(min(len(revealing_regret),len(full_feedback_regret)), min(len(bandit_regret),len(police_regret))))"
   ]
  },
  {
   "cell_type": "code",
   "execution_count": null,
   "metadata": {},
   "outputs": [],
   "source": [
    "plot_regret(revealing, [revealing_regret, bandit_regret], ['Revealing', 'Bandit'])"
   ]
  },
  {
   "cell_type": "code",
   "execution_count": null,
   "metadata": {},
   "outputs": [],
   "source": [
    "# Revealing and cycle\n",
    "plot_regret(revealing, [revealing_regret[:min_t], cycle_regret[:min_t]], ['Revealing', 'Cycle'])"
   ]
  },
  {
   "cell_type": "code",
   "execution_count": null,
   "metadata": {},
   "outputs": [],
   "source": [
    "plot_regret(revealing,\n",
    "            [full_feedback_regret[:min_t], bandit_regret[:min_t], police_regret[:min_t], revealing_regret[:min_t], cycle_regret[:min_t]],\n",
    "            ['Full feedback', 'Bandit', 'Police','Revealing', 'Cycle'])"
   ]
  },
  {
   "cell_type": "markdown",
   "metadata": {},
   "source": [
    "## Unobservable"
   ]
  },
  {
   "cell_type": "code",
   "execution_count": null,
   "metadata": {},
   "outputs": [],
   "source": [
    "peer_reveal = revealing.copy()\n",
    "peer_reveal.remove_edge(0,0)\n",
    "\n",
    "print(\"This graph is {}\".format(obs_dict[obsGraph.observability_type(peer_reveal)]))\n",
    "\n",
    "n_itr = 20000\n",
    "n_sim = 30\n",
    "peer_reveal_q, peer_reveal_losses = EXP3(peer_reveal, list(peer_reveal.nodes()), 1/2, 1/2, n_itr, n_sim)\n",
    "peer_reveal_regret = compute_regret(peer_reveal_losses, peer_reveal)"
   ]
  },
  {
   "cell_type": "code",
   "execution_count": null,
   "metadata": {},
   "outputs": [],
   "source": [
    "plot_regret(peer_reveal, [peer_reveal_regret, upper_bound(peer_reveal, len(peer_reveal_regret))], ['EXP3', 'Upper bound'])"
   ]
  },
  {
   "cell_type": "markdown",
   "metadata": {},
   "source": [
    "# Instability"
   ]
  },
  {
   "cell_type": "markdown",
   "metadata": {},
   "source": [
    "## Strongly to weakly\n",
    "\n",
    "Here we will build a strongly connected graph, run Exp3G on this graph but break the strong connectivity while the algorithm runs.\n",
    "Let's start simple with 5 nodes\n",
    "\n",
    "### 1) Loopless clique (police) graph\n",
    "\n",
    "Here we will look at the behavior of a perturbed police graph."
   ]
  },
  {
   "cell_type": "code",
   "execution_count": null,
   "metadata": {},
   "outputs": [],
   "source": [
    "S1 = police.copy()"
   ]
  },
  {
   "cell_type": "code",
   "execution_count": null,
   "metadata": {},
   "outputs": [],
   "source": [
    "nx.draw(S1)  # networkx draw()\n",
    "plt.draw()\n",
    "plt.show()"
   ]
  },
  {
   "cell_type": "code",
   "execution_count": null,
   "metadata": {},
   "outputs": [],
   "source": [
    "n_itr = 20000\n",
    "n_sim = 30\n",
    "\n",
    "print(\"This graph is {}\".format(obs_dict[obsGraph.observability_type(S1)]))\n",
    "\n",
    "alphaS1 = S1.number_of_edges()\n",
    "\n",
    "deltaS1 = S1.number_of_edges()"
   ]
  },
  {
   "cell_type": "code",
   "execution_count": null,
   "metadata": {},
   "outputs": [],
   "source": [
    "qS1,lS1 = EXP3Opt(S1, list(S1.nodes()), n_itr, n_sim, alpha=alphaS1, delta = deltaS1)\n",
    "regS1 = compute_regret(lS1, S1)\n",
    "dr2S1,laS1 = plot_regret(S1, [regS1], ['EXP3 on strong graph'])"
   ]
  },
  {
   "cell_type": "code",
   "execution_count": null,
   "metadata": {},
   "outputs": [],
   "source": [
    "perturbations = [(0,1),(0,2),(0,3),(0,4)\n",
    "                ,(1,0),(1,2),(1,3),(1,4)\n",
    "                ,(2,0),(2,1),(2,3),(2,4)\n",
    "                ,(3,0),(3,1),(3,2),(3,4)\n",
    "                ,(4,0),(4,1),(4,2),(4,3)]\n",
    "\n",
    "W1_1 = obsGraph.remove_edges(S1, perturbations, 1)\n",
    "print(\"This graph is {}\".format(obs_dict[obsGraph.observability_type(W1_1)]))\n",
    "\n",
    "qW1_1,lW1_1 = EXP3Opt(W1_1, list(W1_1.nodes()), n_itr, n_sim, alpha = alphaS1, delta = deltaS1)\n",
    "regW1_1 = compute_regret(lW1_1, W1_1)\n",
    "dr2W1_1,laW1_1 = plot_regret(W1_1, [regW1_1], ['EXP3 on weakly connected graph'])"
   ]
  },
  {
   "cell_type": "code",
   "execution_count": null,
   "metadata": {},
   "outputs": [],
   "source": [
    "W1_4 = obsGraph.remove_edges(S1, perturbations, 4)\n",
    "print(\"This graph is {}\".format(obs_dict[obsGraph.observability_type(W1_4)]))\n",
    "\n",
    "qW1_4,lW1_4 = EXP3Opt(W1_4, list(W1_4.nodes()), n_itr, n_sim, alpha = alphaS1, delta = deltaS1)\n",
    "regW1_4 = compute_regret(lW1_4, W1_4)\n",
    "dr2W1_4,laW1_4 = plot_regret(W1_4, [regW1_4], ['EXP3 on weakly connected graph'])"
   ]
  },
  {
   "cell_type": "markdown",
   "metadata": {},
   "source": [
    "Above we run the experiment of removing at first one edge from 0, turning the police graph into a weakly observable graph. Second, we remove other edges leaving zero, without further changing the nature of the observability graph. What happens is that because the learning speed only depends on the nature of the learning graph and, for weakly observable graphs, on $\\delta$, furher removing edges from the observability graph without making it unobservable or altering the weak domination number does not change the speed of learning.\n",
    "\n",
    "### 2) Weakly connected graph, impact of $\\delta$\n",
    "\n",
    "Here we will create a weakly connected graph, with inspiration from the \"revealing\" graph, such that we can then remove edges from this graph ina way that it stays weakly observable while changing its weak domination number:"
   ]
  },
  {
   "cell_type": "code",
   "execution_count": null,
   "metadata": {},
   "outputs": [],
   "source": [
    "perturbations_FF = [(0,1),(0,2),(0,3),(0,4)]\n",
    "\n",
    "S2 = revealing.copy()\n",
    "S2.add_edge(1,2)\n",
    "S2.add_edge(2,3)\n",
    "S2.add_edge(3,4)\n",
    "S2.add_edge(4,1)\n",
    "print(\"S2 is {}\".format(obs_dict[obsGraph.observability_type(S2)]))\n",
    "\n",
    "\n",
    "nx.draw(S2, with_labels=True)  # networkx draw()\n",
    "plt.draw()\n",
    "plt.show()"
   ]
  },
  {
   "cell_type": "code",
   "execution_count": null,
   "metadata": {},
   "outputs": [],
   "source": [
    "alphaS2 = 1\n",
    "deltaS2 = 1\n",
    "\n",
    "W2_1 = obsGraph.remove_edges(S2, perturbations_FF, 1)\n",
    "W2_2 = obsGraph.remove_edges(S2, perturbations_FF, 2)\n",
    "W2_3 = obsGraph.remove_edges(S2, perturbations_FF, 3)\n",
    "\n",
    "print(\"W2_1 is {}\".format(obs_dict[obsGraph.observability_type(W2_1)]))\n",
    "print(\"W2_2 is {}\".format(obs_dict[obsGraph.observability_type(W2_2)]))\n",
    "print(\"W2_3 is {}\".format(obs_dict[obsGraph.observability_type(W2_3)]))"
   ]
  },
  {
   "cell_type": "code",
   "execution_count": null,
   "metadata": {},
   "outputs": [],
   "source": [
    "n_itr = 10000\n",
    "n_sim = 30\n",
    "\n",
    "qW2_1,lW2_1 = EXP3Opt(W2_1, list(W2_1.nodes()), n_itr, n_sim, alpha = alphaS2, delta = 2)\n",
    "regW2_1 = compute_regret(lW2_1, W2_1)\n",
    "dr2W2_1,laW2_1 = plot_regret(W2_1, [regW2_1], ['EXP3G on reveal-1'])"
   ]
  },
  {
   "cell_type": "code",
   "execution_count": null,
   "metadata": {},
   "outputs": [],
   "source": [
    "qW2_2,lW2_2 = EXP3Opt(W2_2, list(W2_2.nodes()), n_itr, n_sim, alpha = alphaS2, delta = 3)\n",
    "regW2_2 = compute_regret(lW2_2, W2_2)\n",
    "dr2W2_2,laW2_2 = plot_regret(W2_2, [regW2_2], ['EXP3G on reveal-2'])"
   ]
  },
  {
   "cell_type": "code",
   "execution_count": null,
   "metadata": {},
   "outputs": [],
   "source": [
    "qW2_3,lW2_3 = EXP3Opt(W2_3, list(W2_3.nodes()), n_itr, n_sim, alpha = alphaS2, delta = 4)\n",
    "regW2_3 = compute_regret(lW2_3, W2_3)\n",
    "dr2W2_3,laW2_3 = plot_regret(W2_3, [regW2_3], ['EXP3G on reveal-3'])"
   ]
  },
  {
   "cell_type": "markdown",
   "metadata": {},
   "source": [
    "The learning rate depends on $\\delta^{\\frac{1}{3}}$, which can be observed in our case.\n",
    "\n",
    "Here we looked at the impact of the weak domination number in the case of weakly connected graphs. However we could have lead similar experiments to follow the impact of the independence number in the case of strongly connected graphs."
   ]
  },
  {
   "cell_type": "markdown",
   "metadata": {},
   "source": [
    "## Strongly to unobservable\n",
    "\n",
    "A good example of transition from strongly observable to unobservable graph is the case of the bandit graph when one edge is removed. This implies that one of the vertices is no longer observed neither by himself nor by any other vertex, which implies that not all vertices are observable."
   ]
  },
  {
   "cell_type": "code",
   "execution_count": null,
   "metadata": {},
   "outputs": [],
   "source": [
    "alpha1 = 1\n",
    "beta1 = 0\n",
    "n_nodes = 5\n",
    "S3 = bandit.copy()"
   ]
  },
  {
   "cell_type": "code",
   "execution_count": null,
   "metadata": {},
   "outputs": [],
   "source": [
    "nx.draw(S3)  # networkx draw()\n",
    "plt.draw()\n",
    "plt.show()\n",
    "\n",
    "n_itr = 20000\n",
    "n_sim = 30\n",
    "\n",
    "print(\"This graph is {}\".format(obs_dict[obsGraph.observability_type(S2)]))\n",
    "\n",
    "alphaS3 = S3.number_of_nodes()\n",
    "\n",
    "deltaS3 = S3.number_of_nodes()"
   ]
  },
  {
   "cell_type": "code",
   "execution_count": null,
   "metadata": {},
   "outputs": [],
   "source": [
    "qS3,lS3 = EXP3Opt(S2, list(S2.nodes()), n_itr, n_sim, alpha=alphaS3, delta = deltaS3)\n",
    "regS3 = compute_regret(lS3, S3)\n",
    "dr2S3,laS3 = plot_regret(S3, [regS3, upper_bound(S3, len(regS3), alphaS3, deltaS3)], ['EXP3 bandit graph 5 nodes', 'Upper bound'])"
   ]
  },
  {
   "cell_type": "code",
   "execution_count": null,
   "metadata": {},
   "outputs": [],
   "source": [
    "perturbations = [(0,0),(1,1),(2,2),(3,3),(4,4)]\n",
    "\n",
    "U2_1 = obsGraph.remove_edges(S3, perturbations, 1)\n",
    "print(\"This graph is {}\".format(obs_dict[obsGraph.observability_type(U2_1)]))\n",
    "\n",
    "qU2_1,lU2_1 = EXP3Opt(U2_1, list(U2_1.nodes()), n_itr, n_sim, alpha = alphaS3, delta = deltaS3)\n",
    "regU2_1 = compute_regret(lU2_1, U2_1)\n",
    "dr2U2,laU2 = plot_regret(U2_1, [regU2_1, upper_bound(U2_1, len(regU2_1), alphaS3, deltaS3)], ['EXP3, unobservable mod. bandit 5 nodes', 'Upper bound'])"
   ]
  },
  {
   "cell_type": "code",
   "execution_count": null,
   "metadata": {},
   "outputs": [],
   "source": [
    "U2_2 = obsGraph.remove_edges(S3, perturbations, 2)\n",
    "print(\"This graph is {}\".format(obs_dict[obsGraph.observability_type(U2_2)]))\n",
    "\n",
    "qU2_2,lU2_2 = EXP3Opt(U2_2, list(U2_2.nodes()), n_itr, n_sim, alpha = alphaS3, delta = deltaS3)\n",
    "regU2_2 = compute_regret(lU2_2, U2_2)\n",
    "dr2U2,laU2 = plot_regret(U2_2, [regU2_2, upper_bound(U2_2, len(regU2_2), alphaS3, deltaS3)], ['EXP3, unobservable mod. bandit 5 nodes', 'Upper bound'])"
   ]
  },
  {
   "cell_type": "code",
   "execution_count": null,
   "metadata": {},
   "outputs": [],
   "source": [
    "U2_3 = obsGraph.remove_edges(S3, perturbations, 3)\n",
    "print(\"This graph is {}\".format(obs_dict[obsGraph.observability_type(U2_3)]))\n",
    "\n",
    "qU2_3,lU2_3 = EXP3Opt(U2_3, list(U2_3.nodes()), n_itr, n_sim, alpha = alphaS3, delta = deltaS3)\n",
    "regU2_3 = compute_regret(lU2_3, U2_3)\n",
    "dr2U2,laU2 = plot_regret(U2_3, [regU2_3, upper_bound(U2_3, len(regU2_3), alphaS3, deltaS3)], ['EXP3, unobservable mod. bandit 5 nodes', 'Upper bound'])"
   ]
  },
  {
   "cell_type": "markdown",
   "metadata": {},
   "source": [
    "## Bibliography\n",
    "\n",
    "Fox & Pach, Computing the Independence Number of Intersection Graphs, math.mit.edu/~fox/paper-foxj.pdf"
   ]
  },
  {
   "cell_type": "raw",
   "metadata": {
    "collapsed": true
   },
   "source": [
    "Que veut dire la lower bound ?? pourquoi pour une certaine famille de loss function\n",
    "Que veut dire l'upper bound par rapport a notre algo? "
   ]
  }
 ],
 "metadata": {
  "kernelspec": {
   "display_name": "Python 3",
   "language": "python",
   "name": "python3"
  },
  "language_info": {
   "codemirror_mode": {
    "name": "ipython",
    "version": 3
   },
   "file_extension": ".py",
   "mimetype": "text/x-python",
   "name": "python",
   "nbconvert_exporter": "python",
   "pygments_lexer": "ipython3",
   "version": "3.6.2"
  }
 },
 "nbformat": 4,
 "nbformat_minor": 2
}
