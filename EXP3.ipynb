{
 "cells": [
  {
   "cell_type": "markdown",
   "metadata": {},
   "source": [
    "# Graphs in ML - Project Notebook\n",
    "###### Valentin Berkes, Simon Lebastard\n",
    "\n",
    "In this notebook we will create several strongly and weakly connected graphs, test the Exp3G algorithm and assess the influence of a qualitative change in the connectivity graph on the evolution of regret."
   ]
  },
  {
   "cell_type": "code",
   "execution_count": 9,
   "metadata": {},
   "outputs": [],
   "source": [
    "import networkx as nx\n",
    "import pygraphviz\n",
    "from networkx.drawing.nx_agraph import write_dot\n",
    "from EXP3 import EXP3, compute_regret, plot_regret, gaussian_filter\n",
    "import arms\n",
    "import numpy as np\n",
    "import obsGraph"
   ]
  },
  {
   "cell_type": "code",
   "execution_count": 10,
   "metadata": {},
   "outputs": [],
   "source": [
    "G = nx.DiGraph()\n",
    "G.add_node(0, arm=arms.ArmBernoulli(0.5))\n",
    "G.add_node(1, arm=arms.ArmBernoulli(0.3))\n",
    "G.add_node(2, arm=arms.ArmBernoulli(0.4))\n",
    "G.add_node(3, arm=arms.ArmBernoulli(0.7))\n",
    "G.add_edge(0,0)\n",
    "G.add_edge(0,1)\n",
    "G.add_edge(2,2)\n",
    "G.add_edge(3,3)\n",
    "\n",
    "G = nx.convert_node_labels_to_integers(G)"
   ]
  },
  {
   "cell_type": "code",
   "execution_count": 11,
   "metadata": {},
   "outputs": [
    {
     "name": "stderr",
     "output_type": "stream",
     "text": [
      "/home/proprietaire/anaconda3/lib/python3.6/site-packages/networkx/drawing/nx_pylab.py:126: MatplotlibDeprecationWarning: pyplot.hold is deprecated.\n",
      "    Future behavior will be consistent with the long-time default:\n",
      "    plot commands add elements without first clearing the\n",
      "    Axes and/or Figure.\n",
      "  b = plt.ishold()\n",
      "/home/proprietaire/anaconda3/lib/python3.6/site-packages/networkx/drawing/nx_pylab.py:138: MatplotlibDeprecationWarning: pyplot.hold is deprecated.\n",
      "    Future behavior will be consistent with the long-time default:\n",
      "    plot commands add elements without first clearing the\n",
      "    Axes and/or Figure.\n",
      "  plt.hold(b)\n",
      "/home/proprietaire/anaconda3/lib/python3.6/site-packages/matplotlib/__init__.py:917: UserWarning: axes.hold is deprecated. Please remove it from your matplotlibrc and/or style files.\n",
      "  warnings.warn(self.msg_depr_set % key)\n",
      "/home/proprietaire/anaconda3/lib/python3.6/site-packages/matplotlib/rcsetup.py:152: UserWarning: axes.hold is deprecated, will be removed in 3.0\n",
      "  warnings.warn(\"axes.hold is deprecated, will be removed in 3.0\")\n"
     ]
    },
    {
     "data": {
      "image/png": "[encoded data removed]",
      "text/plain": [
       "<matplotlib.figure.Figure at 0x7fb60e675940>"
      ]
     },
     "metadata": {},
     "output_type": "display_data"
    }
   ],
   "source": [
    "import matplotlib.pyplot as plt\n",
    "nx.draw(G)  # networkx draw()\n",
    "plt.draw()\n",
    "plt.show()"
   ]
  },
  {
   "cell_type": "code",
   "execution_count": 12,
   "metadata": {
    "collapsed": true
   },
   "outputs": [],
   "source": [
    "## Get nice graphs with self-loops in PNG format\n",
    "# 1) Install pygraphviz\n",
    "# 2) Run:\n",
    "write_dot(G,'graph.dot')\n",
    "# 3) In terminal, run: dot -Tpng graph.dot > graph.png"
   ]
  },
  {
   "cell_type": "markdown",
   "metadata": {},
   "source": [
    "We will run the Exp3G algorithm 50 times and produce an average to have a smooth regret function. This will allow us to detect quasi-linear components and better identify the asymptotic regret."
   ]
  },
  {
   "cell_type": "code",
   "execution_count": 13,
   "metadata": {},
   "outputs": [
    {
     "name": "stderr",
     "output_type": "stream",
     "text": [
      "Simulating EXP3: 100%|██████████| 5000/5000 [00:00<00:00, 25133.32it/s]\n",
      "Simulating EXP3: 100%|██████████| 5000/5000 [00:00<00:00, 30453.18it/s]\n",
      "Simulating EXP3: 100%|██████████| 5000/5000 [00:00<00:00, 30772.54it/s]\n",
      "Simulating EXP3: 100%|██████████| 5000/5000 [00:00<00:00, 30527.87it/s]\n",
      "Simulating EXP3: 100%|██████████| 5000/5000 [00:00<00:00, 29709.33it/s]\n",
      "Simulating EXP3: 100%|██████████| 5000/5000 [00:00<00:00, 29637.03it/s]\n",
      "Simulating EXP3: 100%|██████████| 5000/5000 [00:00<00:00, 26453.67it/s]\n",
      "Simulating EXP3: 100%|██████████| 5000/5000 [00:00<00:00, 32341.75it/s]\n",
      "Simulating EXP3: 100%|██████████| 5000/5000 [00:00<00:00, 31921.53it/s]\n",
      "Simulating EXP3: 100%|██████████| 5000/5000 [00:00<00:00, 28903.71it/s]\n",
      "Simulating EXP3: 100%|██████████| 5000/5000 [00:00<00:00, 30241.34it/s]\n",
      "Simulating EXP3: 100%|██████████| 5000/5000 [00:00<00:00, 29050.01it/s]\n",
      "Simulating EXP3: 100%|██████████| 5000/5000 [00:00<00:00, 34437.18it/s]\n",
      "Simulating EXP3: 100%|██████████| 5000/5000 [00:00<00:00, 27850.33it/s]\n",
      "Simulating EXP3: 100%|██████████| 5000/5000 [00:00<00:00, 26167.89it/s]\n",
      "Simulating EXP3: 100%|██████████| 5000/5000 [00:00<00:00, 30972.01it/s]\n",
      "Simulating EXP3: 100%|██████████| 5000/5000 [00:00<00:00, 30266.26it/s]\n",
      "Simulating EXP3: 100%|██████████| 5000/5000 [00:00<00:00, 30791.48it/s]\n",
      "Simulating EXP3: 100%|██████████| 5000/5000 [00:00<00:00, 28361.70it/s]\n",
      "Simulating EXP3: 100%|██████████| 5000/5000 [00:00<00:00, 34515.06it/s]\n",
      "Simulating EXP3: 100%|██████████| 5000/5000 [00:00<00:00, 29641.85it/s]\n",
      "Simulating EXP3: 100%|██████████| 5000/5000 [00:00<00:00, 32575.50it/s]\n",
      "Simulating EXP3: 100%|██████████| 5000/5000 [00:00<00:00, 31426.01it/s]\n",
      "Simulating EXP3: 100%|██████████| 5000/5000 [00:00<00:00, 25406.20it/s]\n",
      "Simulating EXP3: 100%|██████████| 5000/5000 [00:00<00:00, 27683.57it/s]\n",
      "Simulating EXP3: 100%|██████████| 5000/5000 [00:00<00:00, 25122.54it/s]\n",
      "Simulating EXP3: 100%|██████████| 5000/5000 [00:00<00:00, 29083.36it/s]\n",
      "Simulating EXP3: 100%|██████████| 5000/5000 [00:00<00:00, 27273.07it/s]\n",
      "Simulating EXP3: 100%|██████████| 5000/5000 [00:00<00:00, 22579.28it/s]\n",
      "Simulating EXP3: 100%|██████████| 5000/5000 [00:00<00:00, 15584.21it/s]\n",
      "Simulating EXP3: 100%|██████████| 5000/5000 [00:00<00:00, 26688.56it/s]\n",
      "Simulating EXP3: 100%|██████████| 5000/5000 [00:00<00:00, 32662.46it/s]\n",
      "Simulating EXP3: 100%|██████████| 5000/5000 [00:00<00:00, 30169.25it/s]\n",
      "Simulating EXP3: 100%|██████████| 5000/5000 [00:00<00:00, 31979.02it/s]\n",
      "Simulating EXP3: 100%|██████████| 5000/5000 [00:00<00:00, 30733.49it/s]\n",
      "Simulating EXP3: 100%|██████████| 5000/5000 [00:00<00:00, 27638.87it/s]\n",
      "Simulating EXP3: 100%|██████████| 5000/5000 [00:00<00:00, 30880.89it/s]\n",
      "Simulating EXP3: 100%|██████████| 5000/5000 [00:00<00:00, 27093.03it/s]\n",
      "Simulating EXP3: 100%|██████████| 5000/5000 [00:00<00:00, 29359.25it/s]\n",
      "Simulating EXP3: 100%|██████████| 5000/5000 [00:00<00:00, 24154.92it/s]\n",
      "Simulating EXP3: 100%|██████████| 5000/5000 [00:00<00:00, 24685.42it/s]\n",
      "Simulating EXP3: 100%|██████████| 5000/5000 [00:00<00:00, 20504.73it/s]\n",
      "Simulating EXP3: 100%|██████████| 5000/5000 [00:00<00:00, 21866.68it/s]\n",
      "Simulating EXP3: 100%|██████████| 5000/5000 [00:00<00:00, 28292.71it/s]\n",
      "Simulating EXP3: 100%|██████████| 5000/5000 [00:00<00:00, 20466.65it/s]\n",
      "Simulating EXP3: 100%|██████████| 5000/5000 [00:00<00:00, 22241.37it/s]\n",
      "Simulating EXP3: 100%|██████████| 5000/5000 [00:00<00:00, 21547.02it/s]\n",
      "Simulating EXP3: 100%|██████████| 5000/5000 [00:00<00:00, 21636.50it/s]\n",
      "Simulating EXP3: 100%|██████████| 5000/5000 [00:00<00:00, 19668.69it/s]\n",
      "Simulating EXP3: 100%|██████████| 5000/5000 [00:00<00:00, 30492.14it/s]\n"
     ]
    }
   ],
   "source": [
    "n_itr = 5000\n",
    "n_run = 50\n",
    "\n",
    "avg_losses = np.zeros((n_itr,))\n",
    "\n",
    "for run in range(n_run):\n",
    "    q,losses = EXP3(G, list(G.nodes()), 0.5, 0.05, n_itr)\n",
    "    avg_losses = avg_losses + (1.0/n_run)*losses"
   ]
  },
  {
   "cell_type": "code",
   "execution_count": 14,
   "metadata": {},
   "outputs": [],
   "source": [
    "regret = compute_regret(avg_losses, G)"
   ]
  },
  {
   "cell_type": "code",
   "execution_count": 15,
   "metadata": {},
   "outputs": [
    {
     "name": "stdout",
     "output_type": "stream",
     "text": [
      "Found linear domain  1 at [   1, 2589]: Slope 0.06, intercept 25.91\n",
      "Found linear domain  2 at [2591, 4539]: Slope 0.02, intercept 165.06\n"
     ]
    },
    {
     "data": {
      "image/png": "[encoded data removed]",
      "text/plain": [
       "<matplotlib.figure.Figure at 0x7fb60e5d36a0>"
      ]
     },
     "metadata": {},
     "output_type": "display_data"
    }
   ],
   "source": [
    "der2,linAreas = plot_regret([regret], ['EXP3'], linReg=True)"
   ]
  },
  {
   "cell_type": "code",
   "execution_count": 16,
   "metadata": {},
   "outputs": [
    {
     "data": {
      "image/png": "[encoded data removed]",
      "text/plain": [
       "<matplotlib.figure.Figure at 0x7fb60e5943c8>"
      ]
     },
     "metadata": {},
     "output_type": "display_data"
    }
   ],
   "source": [
    "plt.plot(range(10,4700), der2[10:4700])\n",
    "plt.show()"
   ]
  },
  {
   "cell_type": "markdown",
   "metadata": {},
   "source": [
    "## Building strongly connected graphs\n",
    "\n",
    "To generate a class of strongly connected graphs, we use a parametric method that proceeds as follows:\n",
    "- A fully connected graph $\\mathcal{G}$ is created\n",
    "- $\\alpha \\in [0,1]$ specifies the rate of self-edges to be removed from $\\mathcal{G}$\n",
    "- $\\beta \\in [0,1]$ parametrises the rate of peer-edges to be removed, according to the following policy: if we decide to remove peer-edges for a node $i$ then there is a uniform probability distribution over the number of peer-edges to remove.\n",
    "\n",
    "Even though this method does allow to generate only a given class of graphs, we can later generalize it by introducing a third parameter $p$ that would be the probability distribution to replace the uniform distribution in the case where peer-edges are removed.\n",
    "\n",
    "Here is an example of a strongly connected graph created through our function:"
   ]
  },
  {
   "cell_type": "code",
   "execution_count": 27,
   "metadata": {
    "collapsed": true
   },
   "outputs": [],
   "source": [
    "alpha1 = 0.5\n",
    "beta1 = 0.5\n",
    "n_nodes = 5\n",
    "H1 = obsGraph.strong_obs_graph(n_nodes, alpha1, beta1)"
   ]
  },
  {
   "cell_type": "code",
   "execution_count": 28,
   "metadata": {},
   "outputs": [
    {
     "name": "stderr",
     "output_type": "stream",
     "text": [
      "/home/proprietaire/anaconda3/lib/python3.6/site-packages/networkx/drawing/nx_pylab.py:126: MatplotlibDeprecationWarning: pyplot.hold is deprecated.\n",
      "    Future behavior will be consistent with the long-time default:\n",
      "    plot commands add elements without first clearing the\n",
      "    Axes and/or Figure.\n",
      "  b = plt.ishold()\n",
      "/home/proprietaire/anaconda3/lib/python3.6/site-packages/networkx/drawing/nx_pylab.py:138: MatplotlibDeprecationWarning: pyplot.hold is deprecated.\n",
      "    Future behavior will be consistent with the long-time default:\n",
      "    plot commands add elements without first clearing the\n",
      "    Axes and/or Figure.\n",
      "  plt.hold(b)\n",
      "/home/proprietaire/anaconda3/lib/python3.6/site-packages/matplotlib/__init__.py:917: UserWarning: axes.hold is deprecated. Please remove it from your matplotlibrc and/or style files.\n",
      "  warnings.warn(self.msg_depr_set % key)\n",
      "/home/proprietaire/anaconda3/lib/python3.6/site-packages/matplotlib/rcsetup.py:152: UserWarning: axes.hold is deprecated, will be removed in 3.0\n",
      "  warnings.warn(\"axes.hold is deprecated, will be removed in 3.0\")\n"
     ]
    },
    {
     "data": {
      "image/png": "[encoded data removed]",
      "text/plain": [
       "<matplotlib.figure.Figure at 0x7fb60d447978>"
      ]
     },
     "metadata": {},
     "output_type": "display_data"
    }
   ],
   "source": [
    "nx.draw(H1)  # networkx draw()\n",
    "plt.draw()\n",
    "plt.show()\n",
    "write_dot(H1,'strong1.dot')"
   ]
  },
  {
   "cell_type": "code",
   "execution_count": 29,
   "metadata": {},
   "outputs": [
    {
     "data": {
      "text/plain": [
       "(True, False, False)"
      ]
     },
     "execution_count": 29,
     "metadata": {},
     "output_type": "execute_result"
    }
   ],
   "source": [
    "obsGraph.observability_type(H1)"
   ]
  },
  {
   "cell_type": "code",
   "execution_count": 30,
   "metadata": {},
   "outputs": [
    {
     "data": {
      "text/plain": [
       "{'dual': [], 'peer': [], 'self': [0, 1, 2, 3, 4]}"
      ]
     },
     "execution_count": 30,
     "metadata": {},
     "output_type": "execute_result"
    }
   ],
   "source": [
    "obsGraph.strong_nodes(H1)"
   ]
  },
  {
   "cell_type": "markdown",
   "metadata": {},
   "source": [
    "Note that in this case, we chose $\\alpha + \\beta = 1$, resulting in edges removed for all nodes (either self-edge, or one or more peer-edges).\n",
    "\n",
    "In the second example below, some edges are left dual:"
   ]
  },
  {
   "cell_type": "code",
   "execution_count": 31,
   "metadata": {},
   "outputs": [
    {
     "name": "stderr",
     "output_type": "stream",
     "text": [
      "/home/proprietaire/anaconda3/lib/python3.6/site-packages/networkx/drawing/nx_pylab.py:126: MatplotlibDeprecationWarning: pyplot.hold is deprecated.\n",
      "    Future behavior will be consistent with the long-time default:\n",
      "    plot commands add elements without first clearing the\n",
      "    Axes and/or Figure.\n",
      "  b = plt.ishold()\n",
      "/home/proprietaire/anaconda3/lib/python3.6/site-packages/networkx/drawing/nx_pylab.py:138: MatplotlibDeprecationWarning: pyplot.hold is deprecated.\n",
      "    Future behavior will be consistent with the long-time default:\n",
      "    plot commands add elements without first clearing the\n",
      "    Axes and/or Figure.\n",
      "  plt.hold(b)\n",
      "/home/proprietaire/anaconda3/lib/python3.6/site-packages/matplotlib/__init__.py:917: UserWarning: axes.hold is deprecated. Please remove it from your matplotlibrc and/or style files.\n",
      "  warnings.warn(self.msg_depr_set % key)\n",
      "/home/proprietaire/anaconda3/lib/python3.6/site-packages/matplotlib/rcsetup.py:152: UserWarning: axes.hold is deprecated, will be removed in 3.0\n",
      "  warnings.warn(\"axes.hold is deprecated, will be removed in 3.0\")\n"
     ]
    },
    {
     "data": {
      "image/png": "[encoded data removed]",
      "text/plain": [
       "<matplotlib.figure.Figure at 0x7fb60e43db70>"
      ]
     },
     "metadata": {},
     "output_type": "display_data"
    },
    {
     "data": {
      "text/plain": [
       "{'dual': [3], 'peer': [0, 5], 'self': [1, 2, 4, 6, 7]}"
      ]
     },
     "execution_count": 31,
     "metadata": {},
     "output_type": "execute_result"
    }
   ],
   "source": [
    "alpha2 = 0.4\n",
    "beta2 = 0.3\n",
    "n_nodes = 8\n",
    "H2 = obsGraph.strong_obs_graph(n_nodes, alpha2, beta2)\n",
    "nx.draw(H2)  # networkx draw()\n",
    "plt.draw()\n",
    "plt.show()\n",
    "write_dot(H2,'strong2.dot')\n",
    "obsGraph.observability_type(H2)\n",
    "obsGraph.strong_nodes(H2)"
   ]
  },
  {
   "cell_type": "markdown",
   "metadata": {},
   "source": [
    "# Examples\n",
    "## Strongly observable\n",
    "### Bandit"
   ]
  },
  {
   "cell_type": "code",
   "execution_count": null,
   "metadata": {
    "collapsed": true
   },
   "outputs": [],
   "source": [
    "bandit = nx.DiGraph()\n",
    "bandit.add_node(0, arm=arms.ArmBernoulli(0.5))\n",
    "bandit.add_node(1, arm=arms.ArmBernoulli(0.3))\n",
    "bandit.add_node(2, arm=arms.ArmBernoulli(0.4))\n",
    "bandit.add_node(3, arm=arms.ArmBernoulli(0.7))\n",
    "bandit.add_node(4, arm=arms.ArmBernoulli(0.1))\n",
    "bandit.add_edge(0,0)\n",
    "bandit.add_edge(1,1)\n",
    "bandit.add_edge(2,2)\n",
    "bandit.add_edge(3,3)\n",
    "bandit.add_edge(4,4)\n",
    "print(obsGraph.observability_type(bandit))"
   ]
  },
  {
   "cell_type": "code",
   "execution_count": null,
   "metadata": {
    "collapsed": true
   },
   "outputs": [],
   "source": [
    "nx.draw(bandit)  # networkx draw()\n",
    "plt.draw()\n",
    "plt.show()"
   ]
  },
  {
   "cell_type": "code",
   "execution_count": null,
   "metadata": {
    "collapsed": true
   },
   "outputs": [],
   "source": [
    "n_itr = 10000\n",
    "bandit_q, bandit_losses = EXP3(bandit, list(bandit.nodes()), 0.5, 0.05, n_itr)\n",
    "bandit_regret = compute_regret(bandit_losses, bandit)"
   ]
  },
  {
   "cell_type": "code",
   "execution_count": null,
   "metadata": {
    "collapsed": true
   },
   "outputs": [],
   "source": [
    "plot_regret([bandit_regret], ['EXP3'])"
   ]
  },
  {
   "cell_type": "code",
   "execution_count": null,
   "metadata": {
    "collapsed": true
   },
   "outputs": [],
   "source": [
    "bandit_q"
   ]
  },
  {
   "cell_type": "markdown",
   "metadata": {},
   "source": [
    "independent set np hard\n",
    "https://networkx.github.io/documentation/networkx-1.10/reference/algorithms.approximation.html?highlight=independent%20set#module-networkx.algorithms.approximation.independent_set\n",
    "\n",
    "how to compute weak domination number?\n",
    "\n",
    "regret doit être une esperance: il faut lancer plusieurs fois et faire la moyenne"
   ]
  },
  {
   "cell_type": "markdown",
   "metadata": {},
   "source": [
    "### Full feedback"
   ]
  },
  {
   "cell_type": "code",
   "execution_count": null,
   "metadata": {
    "collapsed": true
   },
   "outputs": [],
   "source": [
    "graph_arms = [arms.ArmBernoulli(0.5), arms.ArmBernoulli(0.3), arms.ArmBernoulli(0.4), arms.ArmBernoulli(0.7), arms.ArmBernoulli(0.1)]\n",
    "full_feedback = obsGraph.strong_obs_graph(5, 0, 0, graph_arms)\n",
    "print(obsGraph.observability_type(full_feedback))"
   ]
  },
  {
   "cell_type": "code",
   "execution_count": null,
   "metadata": {
    "collapsed": true
   },
   "outputs": [],
   "source": [
    "nx.draw(full_feedback)  # networkx draw()\n",
    "plt.draw()\n",
    "plt.show()"
   ]
  },
  {
   "cell_type": "code",
   "execution_count": null,
   "metadata": {
    "collapsed": true
   },
   "outputs": [],
   "source": [
    "n_itr = 10000\n",
    "full_feedback_q, full_feedback_losses = EXP3(full_feedback, list(full_feedback.nodes()), 0.5, 0.05, n_itr)\n",
    "full_feedback_regret = compute_regret(full_feedback_losses, full_feedback)"
   ]
  },
  {
   "cell_type": "code",
   "execution_count": null,
   "metadata": {
    "collapsed": true
   },
   "outputs": [],
   "source": [
    "plot_regret([full_feedback_regret], ['EXP3'])"
   ]
  },
  {
   "cell_type": "code",
   "execution_count": null,
   "metadata": {
    "collapsed": true
   },
   "outputs": [],
   "source": [
    "plot_regret([full_feedback_regret, bandit_regret], ['Full feedback', 'Bandit'])"
   ]
  },
  {
   "cell_type": "markdown",
   "metadata": {},
   "source": [
    "### Police officer - loopless clique"
   ]
  },
  {
   "cell_type": "code",
   "execution_count": null,
   "metadata": {
    "collapsed": true
   },
   "outputs": [],
   "source": [
    "graph_arms = [arms.ArmBernoulli(0.5), arms.ArmBernoulli(0.3), arms.ArmBernoulli(0.4), arms.ArmBernoulli(0.7), arms.ArmBernoulli(0.1)]\n",
    "police = obsGraph.strong_obs_graph(5, 1, 0, graph_arms)\n",
    "print(obsGraph.observability_type(police))"
   ]
  },
  {
   "cell_type": "code",
   "execution_count": null,
   "metadata": {
    "collapsed": true
   },
   "outputs": [],
   "source": [
    "nx.draw(police)  # networkx draw()\n",
    "plt.draw()\n",
    "plt.show()"
   ]
  },
  {
   "cell_type": "code",
   "execution_count": null,
   "metadata": {
    "collapsed": true
   },
   "outputs": [],
   "source": [
    "n_itr = 10000\n",
    "police_q, police_losses = EXP3(police, list(police.nodes()), 0.5, 0.05, n_itr)\n",
    "police_regret = compute_regret(police_losses, police)"
   ]
  },
  {
   "cell_type": "code",
   "execution_count": null,
   "metadata": {
    "collapsed": true
   },
   "outputs": [],
   "source": [
    "plot_regret([police_regret], ['EXP3'])"
   ]
  },
  {
   "cell_type": "code",
   "execution_count": null,
   "metadata": {
    "collapsed": true
   },
   "outputs": [],
   "source": [
    "plot_regret([full_feedback_regret, bandit_regret, police_regret], ['Full feedback', 'Bandit', 'Police'])"
   ]
  },
  {
   "cell_type": "markdown",
   "metadata": {},
   "source": [
    "## Weakly observable"
   ]
  },
  {
   "cell_type": "markdown",
   "metadata": {},
   "source": [
    "### Revealing actions"
   ]
  },
  {
   "cell_type": "code",
   "execution_count": null,
   "metadata": {
    "collapsed": true
   },
   "outputs": [],
   "source": [
    "revealing = nx.DiGraph()\n",
    "revealing.add_node(0, arm=arms.ArmBernoulli(0.5))\n",
    "revealing.add_node(1, arm=arms.ArmBernoulli(0.3))\n",
    "revealing.add_node(2, arm=arms.ArmBernoulli(0.4))\n",
    "revealing.add_node(3, arm=arms.ArmBernoulli(0.7))\n",
    "revealing.add_node(4, arm=arms.ArmBernoulli(0.1))\n",
    "revealing.add_edge(0,0)\n",
    "revealing.add_edge(0,1)\n",
    "revealing.add_edge(0,2)\n",
    "revealing.add_edge(0,3)\n",
    "revealing.add_edge(0,4)\n",
    "print(obsGraph.observability_type(revealing))"
   ]
  },
  {
   "cell_type": "code",
   "execution_count": null,
   "metadata": {
    "collapsed": true
   },
   "outputs": [],
   "source": [
    "nx.draw(revealing)  # networkx draw()\n",
    "plt.draw()\n",
    "plt.show()"
   ]
  },
  {
   "cell_type": "code",
   "execution_count": null,
   "metadata": {
    "collapsed": true
   },
   "outputs": [],
   "source": [
    "n_itr = 10000\n",
    "revealing_q, revealing_losses = EXP3(revealing, list(revealing.nodes()), 0.5, 0.05, n_itr)\n",
    "revealing_regret = compute_regret(revealing_losses, revealing)"
   ]
  },
  {
   "cell_type": "code",
   "execution_count": null,
   "metadata": {
    "collapsed": true
   },
   "outputs": [],
   "source": [
    "plot_regret([revealing_regret], ['EXP3'])"
   ]
  },
  {
   "cell_type": "code",
   "execution_count": null,
   "metadata": {
    "collapsed": true
   },
   "outputs": [],
   "source": [
    "plot_regret([full_feedback_regret, bandit_regret, police_regret, revealing_regret], ['Full feedback', 'Bandit', 'Police','Revealing'])"
   ]
  },
  {
   "cell_type": "markdown",
   "metadata": {},
   "source": [
    "## Unobservable"
   ]
  },
  {
   "cell_type": "code",
   "execution_count": null,
   "metadata": {
    "collapsed": true
   },
   "outputs": [],
   "source": []
  },
  {
   "cell_type": "markdown",
   "metadata": {},
   "source": [
    "# Instability"
   ]
  },
  {
   "cell_type": "markdown",
   "metadata": {},
   "source": [
    "## Strongly to weakly"
   ]
  },
  {
   "cell_type": "code",
   "execution_count": null,
   "metadata": {
    "collapsed": true
   },
   "outputs": [],
   "source": []
  },
  {
   "cell_type": "markdown",
   "metadata": {},
   "source": [
    "## Strongly to unobservable"
   ]
  },
  {
   "cell_type": "code",
   "execution_count": null,
   "metadata": {
    "collapsed": true
   },
   "outputs": [],
   "source": []
  },
  {
   "cell_type": "markdown",
   "metadata": {},
   "source": [
    "## Weakly to unobservable"
   ]
  },
  {
   "cell_type": "code",
   "execution_count": null,
   "metadata": {
    "collapsed": true
   },
   "outputs": [],
   "source": []
  }
 ],
 "metadata": {
  "kernelspec": {
   "display_name": "Python 3",
   "language": "python",
   "name": "python3"
  },
  "language_info": {
   "codemirror_mode": {
    "name": "ipython",
    "version": 3
   },
   "file_extension": ".py",
   "mimetype": "text/x-python",
   "name": "python",
   "nbconvert_exporter": "python",
   "pygments_lexer": "ipython3",
   "version": "3.6.2"
  }
 },
 "nbformat": 4,
 "nbformat_minor": 2
}
