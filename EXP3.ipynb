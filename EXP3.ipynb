{
 "cells": [
  {
   "cell_type": "code",
   "execution_count": null,
   "metadata": {},
   "outputs": [],
   "source": [
    "import networkx as nx\n",
    "import numpy as np"
   ]
  },
  {
   "cell_type": "code",
   "execution_count": null,
   "metadata": {},
   "outputs": [],
   "source": [
    "#nodes of G [0 1 2 ...], [0 2 3] is forbidden\n",
    "\n",
    "def EXP3(G, U, eta, gamma, T):\n",
    "    V = list(G.nodes())\n",
    "    t = 0\n",
    "    u = np.array([0 if not n in U else 1/len(U) for n in V])\n",
    "    q = (1/len(V))*np.ones((T+1, len(V)))\n",
    "    p = np.zeros((T, len(V)))\n",
    "    while t < T:\n",
    "        p[t] = (1-gamma)*q[t]+gamma*u\n",
    "        draw = np.random.multinomial(1, p[t])\n",
    "        It = V[np.argmax(draw)]\n",
    "        \n",
    "        # observe\n",
    "        loss = {action: G.node[action]['loss']()/sum([p[t][pred] for pred in G.predecessors(action)]) for action in G.successors(It)}\n",
    "        \n",
    "        q[t+1] = np.array([q[t][i]*np.exp(-eta*loss[i]) if i in loss else q[t][i] for i in V])\n",
    "        q[t+1] = 1/(sum(q[t+1]))*q[t+1]\n",
    "        t+=1\n",
    "    return q[-1]"
   ]
  },
  {
   "cell_type": "code",
   "execution_count": null,
   "metadata": {},
   "outputs": [],
   "source": [
    "def loss_fun():\n",
    "    return 1"
   ]
  },
  {
   "cell_type": "code",
   "execution_count": null,
   "metadata": {},
   "outputs": [],
   "source": [
    "G = nx.DiGraph()\n",
    "G.add_nodes_from([0, 1], loss=loss_fun)\n",
    "G.add_edge(0,0)\n",
    "G.add_edge(0,1)"
   ]
  },
  {
   "cell_type": "code",
   "execution_count": null,
   "metadata": {},
   "outputs": [],
   "source": [
    "EXP3(G, list(G.nodes()), 0.5, 0.5, 100)"
   ]
  },
  {
   "cell_type": "code",
   "execution_count": null,
   "metadata": {},
   "outputs": [],
   "source": [
    "import matplotlib.pyplot as plt\n",
    "nx.draw(G)  # networkx draw()\n",
    "plt.draw()\n",
    "plt.show()"
   ]
  },
  {
   "cell_type": "code",
   "execution_count": null,
   "metadata": {},
   "outputs": [],
   "source": []
  }
 ],
 "metadata": {
  "kernelspec": {
   "display_name": "Python 3",
   "language": "python",
   "name": "python3"
  },
  "language_info": {
   "codemirror_mode": {
    "name": "ipython",
    "version": 3
   },
   "file_extension": ".py",
   "mimetype": "text/x-python",
   "name": "python",
   "nbconvert_exporter": "python",
   "pygments_lexer": "ipython3",
   "version": "3.6.2"
  }
 },
 "nbformat": 4,
 "nbformat_minor": 2
}
